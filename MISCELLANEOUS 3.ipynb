{
 "cells": [
  {
   "cell_type": "code",
   "execution_count": null,
   "id": "5c86672e",
   "metadata": {},
   "outputs": [],
   "source": [
    "''' Please write a program which count and print the numbers of each character in a string input by console. '''\n",
    "#solution\n",
    "dict = {}\n",
    "s = input(\"enter the string: \")\n",
    "for i in s:\n",
    "    c=s.count(i)\n",
    "    dict[i]=c\n",
    "print(dict)"
   ]
  },
  {
   "cell_type": "code",
   "execution_count": 3,
   "id": "78f597ce",
   "metadata": {},
   "outputs": [
    {
     "name": "stdout",
     "output_type": "stream",
     "text": [
      "enter thet string: kartik\n",
      "kitrak\n"
     ]
    }
   ],
   "source": [
    "'''96 Please write a program which accepts a string from console and print it in reverse order. '''\n",
    "#solution\n",
    "s = input(\"enter thet string: \")\n",
    "print(s[::-1])"
   ]
  },
  {
   "cell_type": "code",
   "execution_count": 4,
   "id": "7d065982",
   "metadata": {},
   "outputs": [
    {
     "name": "stdout",
     "output_type": "stream",
     "text": [
      "No. of rabbits: 23\n",
      "No. of chickens: 12\n"
     ]
    }
   ],
   "source": [
    "'''99. Write a program to solve a classic ancient Chinese puzzle: \n",
    "We count 35 heads and 94 legs among the chickens and rabbits in a farm. \n",
    "How many rabbits and how many chickens do we have? '''\n",
    "#solution\n",
    "total_legs = 94\n",
    "total_heads = 35\n",
    "legs_rabbit = 4\n",
    "legs_chicken = 2\n",
    "#assuming rabbits are more than the number of chickens\n",
    "no_of_rabbits = total_legs//legs_rabbit\n",
    "no_of_chickens = total_heads-no_of_rabbits\n",
    "print(\"No. of rabbits:\",no_of_rabbits)\n",
    "print(\"No. of chickens:\",no_of_chickens)"
   ]
  },
  {
   "cell_type": "code",
   "execution_count": null,
   "id": "66826c46",
   "metadata": {},
   "outputs": [],
   "source": []
  }
 ],
 "metadata": {
  "kernelspec": {
   "display_name": "Python 3 (ipykernel)",
   "language": "python",
   "name": "python3"
  },
  "language_info": {
   "codemirror_mode": {
    "name": "ipython",
    "version": 3
   },
   "file_extension": ".py",
   "mimetype": "text/x-python",
   "name": "python",
   "nbconvert_exporter": "python",
   "pygments_lexer": "ipython3",
   "version": "3.9.7"
  }
 },
 "nbformat": 4,
 "nbformat_minor": 5
}
