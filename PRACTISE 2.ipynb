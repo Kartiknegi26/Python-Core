{
 "cells": [
  {
   "cell_type": "markdown",
   "id": "c1ca7eeb",
   "metadata": {},
   "source": [
    "# ITERATORS AND GENERATORS"
   ]
  },
  {
   "cell_type": "code",
   "execution_count": 16,
   "id": "b71ef8f1",
   "metadata": {},
   "outputs": [
    {
     "data": {
      "text/plain": [
       "<generator object func at 0x000001DC33041820>"
      ]
     },
     "execution_count": 16,
     "metadata": {},
     "output_type": "execute_result"
    }
   ],
   "source": [
    "def func(n):\n",
    "    for i in n:\n",
    "        yield i**3"
   ]
  },
  {
   "cell_type": "code",
   "execution_count": 40,
   "id": "f731bc32",
   "metadata": {},
   "outputs": [
    {
     "data": {
      "text/plain": [
       "1"
      ]
     },
     "execution_count": 40,
     "metadata": {},
     "output_type": "execute_result"
    }
   ],
   "source": [
    "g = iter(func([1,2,3,4,5]))\n",
    "next(g)"
   ]
  },
  {
   "cell_type": "code",
   "execution_count": 87,
   "id": "5f761958",
   "metadata": {},
   "outputs": [
    {
     "data": {
      "text/plain": [
       "<generator object func_1 at 0x00000242E3F545F0>"
      ]
     },
     "execution_count": 87,
     "metadata": {},
     "output_type": "execute_result"
    }
   ],
   "source": [
    "def func_1(n): #doubt\n",
    "    for i in n:\n",
    "        if i%2==0:\n",
    "            yield \"the number is even\"\n",
    "            print(i)\n",
    "        else:\n",
    "            yield \"the number is odd\"\n",
    "            print(i)\n",
    "func_1([1,2,3,4,5])"
   ]
  },
  {
   "cell_type": "code",
   "execution_count": 91,
   "id": "1c6c959e",
   "metadata": {},
   "outputs": [
    {
     "data": {
      "text/plain": [
       "'the number is odd'"
      ]
     },
     "execution_count": 91,
     "metadata": {},
     "output_type": "execute_result"
    }
   ],
   "source": [
    "t = iter(func_1([1,2,33,44,56,7]))\n",
    "next(t)"
   ]
  },
  {
   "cell_type": "code",
   "execution_count": 92,
   "id": "3e6fab83",
   "metadata": {},
   "outputs": [
    {
     "data": {
      "text/plain": [
       "'the number is even'"
      ]
     },
     "execution_count": 92,
     "metadata": {},
     "output_type": "execute_result"
    }
   ],
   "source": [
    "next(t)"
   ]
  },
  {
   "cell_type": "code",
   "execution_count": 45,
   "id": "ac079a8b",
   "metadata": {},
   "outputs": [
    {
     "name": "stdout",
     "output_type": "stream",
     "text": [
      "3\n"
     ]
    },
    {
     "data": {
      "text/plain": [
       "64"
      ]
     },
     "execution_count": 45,
     "metadata": {},
     "output_type": "execute_result"
    }
   ],
   "source": [
    "next(g)"
   ]
  },
  {
   "cell_type": "code",
   "execution_count": 80,
   "id": "2f4fec66",
   "metadata": {},
   "outputs": [
    {
     "data": {
      "text/plain": [
       "<generator object fun at 0x00000242E3F54270>"
      ]
     },
     "execution_count": 80,
     "metadata": {},
     "output_type": "execute_result"
    }
   ],
   "source": [
    "def fun(a,b):\n",
    "    yield a+b\n",
    "    print(\"I am after yield\")\n",
    "fun(10,20)"
   ]
  },
  {
   "cell_type": "code",
   "execution_count": 81,
   "id": "f18d5ed6",
   "metadata": {},
   "outputs": [
    {
     "data": {
      "text/plain": [
       "40"
      ]
     },
     "execution_count": 81,
     "metadata": {},
     "output_type": "execute_result"
    }
   ],
   "source": [
    "s = iter(fun(10,30))\n",
    "next(s)"
   ]
  },
  {
   "cell_type": "code",
   "execution_count": null,
   "id": "e0294744",
   "metadata": {},
   "outputs": [],
   "source": []
  },
  {
   "cell_type": "code",
   "execution_count": 39,
   "id": "332bbc10",
   "metadata": {},
   "outputs": [
    {
     "data": {
      "text/plain": [
       "3"
      ]
     },
     "execution_count": 39,
     "metadata": {},
     "output_type": "execute_result"
    }
   ],
   "source": [
    "def fun(n):\n",
    "    for i in n:\n",
    "        yield i*3\n",
    "s = iter(fun([1,2,3,4]))\n",
    "next(s)"
   ]
  },
  {
   "cell_type": "code",
   "execution_count": 49,
   "id": "5fc5910e",
   "metadata": {},
   "outputs": [
    {
     "data": {
      "text/plain": [
       "1"
      ]
     },
     "execution_count": 49,
     "metadata": {},
     "output_type": "execute_result"
    }
   ],
   "source": [
    "l = [1,2,3,4,5]\n",
    "l = iter(l)\n",
    "next(l)"
   ]
  },
  {
   "cell_type": "code",
   "execution_count": 51,
   "id": "4efb993a",
   "metadata": {},
   "outputs": [
    {
     "data": {
      "text/plain": [
       "3"
      ]
     },
     "execution_count": 51,
     "metadata": {},
     "output_type": "execute_result"
    }
   ],
   "source": [
    "next(l)"
   ]
  },
  {
   "cell_type": "code",
   "execution_count": 75,
   "id": "e9963b72",
   "metadata": {},
   "outputs": [
    {
     "data": {
      "text/plain": [
       "<generator object it at 0x00000242E3F4AF90>"
      ]
     },
     "execution_count": 75,
     "metadata": {},
     "output_type": "execute_result"
    }
   ],
   "source": [
    "def it(n):\n",
    "    for i in n:\n",
    "        i=i-i**2\n",
    "        yield i\n",
    "it([1,2,3,4,5])"
   ]
  },
  {
   "cell_type": "code",
   "execution_count": 76,
   "id": "60d3b790",
   "metadata": {},
   "outputs": [
    {
     "data": {
      "text/plain": [
       "0"
      ]
     },
     "execution_count": 76,
     "metadata": {},
     "output_type": "execute_result"
    }
   ],
   "source": [
    "t = iter(it([1,2,3,4,5]))\n",
    "next(t)"
   ]
  },
  {
   "cell_type": "code",
   "execution_count": 78,
   "id": "929d09ef",
   "metadata": {},
   "outputs": [
    {
     "data": {
      "text/plain": [
       "-6"
      ]
     },
     "execution_count": 78,
     "metadata": {},
     "output_type": "execute_result"
    }
   ],
   "source": [
    "next(t)"
   ]
  },
  {
   "cell_type": "code",
   "execution_count": 85,
   "id": "83bf6e2f",
   "metadata": {},
   "outputs": [
    {
     "data": {
      "text/plain": [
       "0"
      ]
     },
     "execution_count": 85,
     "metadata": {},
     "output_type": "execute_result"
    }
   ],
   "source": [
    "s = iter(it([1,2,3,4,5]))\n",
    "next(s)"
   ]
  },
  {
   "cell_type": "markdown",
   "id": "5a51cace",
   "metadata": {},
   "source": [
    "# MAPPING"
   ]
  },
  {
   "cell_type": "code",
   "execution_count": 42,
   "id": "d4cdc32d",
   "metadata": {},
   "outputs": [
    {
     "data": {
      "text/plain": [
       "[22, 6, 9, 16]"
      ]
     },
     "execution_count": 42,
     "metadata": {},
     "output_type": "execute_result"
    }
   ],
   "source": [
    "l1 = [1,2,3,4]\n",
    "l2 = [22,3,3,4]\n",
    "list(map(lambda a,b:a*b,l1,l2))"
   ]
  },
  {
   "cell_type": "code",
   "execution_count": 116,
   "id": "da9af519",
   "metadata": {},
   "outputs": [
    {
     "data": {
      "text/plain": [
       "-1"
      ]
     },
     "execution_count": 116,
     "metadata": {},
     "output_type": "execute_result"
    }
   ],
   "source": [
    "def func(l):\n",
    "    for i in l:\n",
    "        return i*-1\n",
    "func([1,2,3,4])\n"
   ]
  },
  {
   "cell_type": "code",
   "execution_count": 132,
   "id": "9ca81ef6",
   "metadata": {},
   "outputs": [
    {
     "data": {
      "text/plain": [
       "<generator object cel_fah at 0x00000242E3F65120>"
      ]
     },
     "execution_count": 132,
     "metadata": {},
     "output_type": "execute_result"
    }
   ],
   "source": [
    "def cel_fah(c):\n",
    "    for i in c:\n",
    "        f = 9/5*i+32\n",
    "        yield f\n",
    "cel_fah([1,2,3,4,5])"
   ]
  },
  {
   "cell_type": "code",
   "execution_count": 133,
   "id": "ae565c7f",
   "metadata": {},
   "outputs": [
    {
     "data": {
      "text/plain": [
       "33.8"
      ]
     },
     "execution_count": 133,
     "metadata": {},
     "output_type": "execute_result"
    }
   ],
   "source": [
    "t = iter(cel_fah([1,2,3,4,5]))\n",
    "next(t)"
   ]
  },
  {
   "cell_type": "code",
   "execution_count": 135,
   "id": "7c899929",
   "metadata": {},
   "outputs": [
    {
     "data": {
      "text/plain": [
       "37.4"
      ]
     },
     "execution_count": 135,
     "metadata": {},
     "output_type": "execute_result"
    }
   ],
   "source": [
    "next(t)"
   ]
  },
  {
   "cell_type": "code",
   "execution_count": 113,
   "id": "b9b3f120",
   "metadata": {},
   "outputs": [
    {
     "data": {
      "text/plain": [
       "[<generator object func at 0x00000242E3F62190>,\n",
       " <generator object func at 0x00000242E3F62200>,\n",
       " <generator object func at 0x00000242E3F62270>,\n",
       " <generator object func at 0x00000242E3F622E0>,\n",
       " <generator object func at 0x00000242E3F62350>]"
      ]
     },
     "execution_count": 113,
     "metadata": {},
     "output_type": "execute_result"
    }
   ],
   "source": [
    "list(map(func,[1,2,3,4,5]))"
   ]
  },
  {
   "cell_type": "code",
   "execution_count": null,
   "id": "82776659",
   "metadata": {},
   "outputs": [],
   "source": []
  },
  {
   "cell_type": "code",
   "execution_count": 6,
   "id": "c49e61ee",
   "metadata": {},
   "outputs": [],
   "source": [
    "s = \"strings\"\n",
    "s = reversed(s)"
   ]
  },
  {
   "cell_type": "code",
   "execution_count": 104,
   "id": "3e4babb0",
   "metadata": {},
   "outputs": [
    {
     "data": {
      "text/plain": [
       "<generator object it at 0x00000242E3F547B0>"
      ]
     },
     "execution_count": 104,
     "metadata": {},
     "output_type": "execute_result"
    }
   ],
   "source": [
    "s"
   ]
  },
  {
   "cell_type": "code",
   "execution_count": 107,
   "id": "de5d6533",
   "metadata": {},
   "outputs": [
    {
     "data": {
      "text/plain": [
       "-20"
      ]
     },
     "execution_count": 107,
     "metadata": {},
     "output_type": "execute_result"
    }
   ],
   "source": [
    "t1 = iter(s)\n",
    "next(t1)"
   ]
  },
  {
   "cell_type": "code",
   "execution_count": 139,
   "id": "0c08f580",
   "metadata": {},
   "outputs": [
    {
     "data": {
      "text/plain": [
       "['kartik1', 'varun2', 'kritika3', 'bhawna4']"
      ]
     },
     "execution_count": 139,
     "metadata": {},
     "output_type": "execute_result"
    }
   ],
   "source": [
    "l1 = [\"kartik\",\"varun\",\"kritika\",\"bhawna\"]\n",
    "l2 = [1,2,3,4,5]\n",
    "list(map(lambda i,y:i+str(y),l1,l2))"
   ]
  },
  {
   "cell_type": "code",
   "execution_count": 96,
   "id": "29505d35",
   "metadata": {},
   "outputs": [
    {
     "data": {
      "text/plain": [
       "<generator object func at 0x00000242E3F5A0B0>"
      ]
     },
     "execution_count": 96,
     "metadata": {},
     "output_type": "execute_result"
    }
   ],
   "source": [
    "def func(l):\n",
    "    for i in l:\n",
    "        I=l.index(i)\n",
    "        yield I\n",
    "func([\"kartik\",\"varun\",\"kritika\",\"bhawna\"])\n",
    "        \n",
    "        "
   ]
  },
  {
   "cell_type": "code",
   "execution_count": 97,
   "id": "4d6c31b1",
   "metadata": {},
   "outputs": [
    {
     "data": {
      "text/plain": [
       "0"
      ]
     },
     "execution_count": 97,
     "metadata": {},
     "output_type": "execute_result"
    }
   ],
   "source": [
    "t = iter(func([\"kartik\",\"varun\",\"kritika\",\"bhawna\"]))\n",
    "next(t)"
   ]
  },
  {
   "cell_type": "code",
   "execution_count": 98,
   "id": "66ec2bec",
   "metadata": {},
   "outputs": [
    {
     "data": {
      "text/plain": [
       "1"
      ]
     },
     "execution_count": 98,
     "metadata": {},
     "output_type": "execute_result"
    }
   ],
   "source": [
    "next(t)"
   ]
  },
  {
   "cell_type": "code",
   "execution_count": 17,
   "id": "6141bc58",
   "metadata": {},
   "outputs": [],
   "source": [
    "s = iter(func([\"kartik\",\"varun\",\"kritika\",\"bhawna\"]))"
   ]
  },
  {
   "cell_type": "code",
   "execution_count": 101,
   "id": "f780a067",
   "metadata": {},
   "outputs": [
    {
     "data": {
      "text/plain": [
       "3"
      ]
     },
     "execution_count": 101,
     "metadata": {},
     "output_type": "execute_result"
    }
   ],
   "source": [
    "next(t)"
   ]
  },
  {
   "cell_type": "code",
   "execution_count": 144,
   "id": "2eeaf998",
   "metadata": {},
   "outputs": [
    {
     "data": {
      "text/plain": [
       "[17, 27, 49, 71]"
      ]
     },
     "execution_count": 144,
     "metadata": {},
     "output_type": "execute_result"
    }
   ],
   "source": [
    "'''Q.1. Write a Python program to create a lambda function that adds 15 to a given number passed in as an argument, \n",
    "also create a lambda function that multiplies argument x with argument y and print the result.'''\n",
    "#SOLUTIONS\n",
    "list(map(lambda i:i+15,[2,12,34,56]))\n"
   ]
  },
  {
   "cell_type": "code",
   "execution_count": 143,
   "id": "794ae957",
   "metadata": {},
   "outputs": [
    {
     "data": {
      "text/plain": [
       "[6, 14, 24, 36, 50]"
      ]
     },
     "execution_count": 143,
     "metadata": {},
     "output_type": "execute_result"
    }
   ],
   "source": [
    "#solutions2\n",
    "l1=[1,2,3,4,5]\n",
    "l2=[6,7,8,9,10]\n",
    "list(map(lambda x,y:x*y,l1,l2))"
   ]
  },
  {
   "cell_type": "code",
   "execution_count": null,
   "id": "2ba03c34",
   "metadata": {},
   "outputs": [],
   "source": [
    "'''Q. 2. Write a Python program to create a function that takes one argument, \n",
    "and that argument will be multiplied with an unknown given number.'''\n",
    "#solutions"
   ]
  },
  {
   "cell_type": "code",
   "execution_count": null,
   "id": "22f4ef00",
   "metadata": {},
   "outputs": [],
   "source": [
    "def func_1(a):\n",
    "    m=a*5\n",
    "    print(m)"
   ]
  },
  {
   "cell_type": "code",
   "execution_count": null,
   "id": "5569af58",
   "metadata": {},
   "outputs": [],
   "source": [
    "l1=[5]\n",
    "l2=[1,2,3,4,5]"
   ]
  },
  {
   "cell_type": "code",
   "execution_count": 149,
   "id": "a5f27af7",
   "metadata": {},
   "outputs": [
    {
     "data": {
      "text/plain": [
       "[6, 14, 24, 36, 50]"
      ]
     },
     "execution_count": 149,
     "metadata": {},
     "output_type": "execute_result"
    }
   ],
   "source": [
    "list(map(lambda a,b:a*b,l1,l2))"
   ]
  },
  {
   "cell_type": "code",
   "execution_count": 155,
   "id": "ce32e4b5",
   "metadata": {},
   "outputs": [
    {
     "data": {
      "text/plain": [
       "[('English', 88), ('Science', 90), ('Maths', 97), ('Social sciences', 82)]"
      ]
     },
     "execution_count": 155,
     "metadata": {},
     "output_type": "execute_result"
    }
   ],
   "source": [
    "'''Q. Write a Python program to sort a list of tuples using Lambda.\n",
    "Original list of tuples:\n",
    "[('English', 88), ('Science', 90), ('Maths', 97), ('Social sciences', 82)]\n",
    "Sorting the List of Tuples:\n",
    "[('Social sciences', 82), ('English', 88), ('Science', 90), ('Maths', 97)]'''\n",
    "#solutions\n",
    "l1=[('English', 88), ('Science', 90), ('Maths', 97), ('Social sciences', 82)]\n",
    "list(map(lambda a:a,l1))\n"
   ]
  },
  {
   "cell_type": "code",
   "execution_count": 209,
   "id": "1ea38dc2",
   "metadata": {},
   "outputs": [
    {
     "name": "stdout",
     "output_type": "stream",
     "text": [
      "[82, 88, 90, 97]\n",
      "[('English', 88), ('Science', 90), ('Maths', 97), ('Social sciences', 82)]\n",
      "[('Social sciences', 82), ('English', 88), ('Science', 90), ('Maths', 97)]\n",
      "{'Social sciences': 82, 'English': 88, 'Science': 90, 'Maths': 97}\n"
     ]
    }
   ],
   "source": [
    "l2=[('English', 88), ('Science', 90), ('Maths', 97), ('Social sciences', 82)]\n",
    "l2=dict(l2)\n",
    "l2\n",
    "l5=[]\n",
    "l3=[]\n",
    "l4=[]\n",
    "l6=[]\n",
    "for a,b in l2.items():\n",
    "    l3.append(a)\n",
    "    l4.append(b)\n",
    "    l4.sort()\n",
    "for i in l2.items():\n",
    "    l5.append(i)\n",
    "print(l4)\n",
    "print(l5)\n",
    "for x in l4:\n",
    "    for y in l5:\n",
    "        if x in y:\n",
    "            l6.append(y)\n",
    "print(l6)\n",
    "l6=dict(l6)\n",
    "\n",
    "\n",
    "    \n",
    "#for i in l2:\n",
    "    \n",
    "#        l3.append(a)\n",
    "#        l4.append(b)\n",
    "#        l4.sort()\n",
    "#l4        \n",
    "#        if b in i:\n",
    "#            l5.append(i)\n",
    "#l5\n",
    "            \n",
    "    \n",
    "    "
   ]
  },
  {
   "cell_type": "code",
   "execution_count": 188,
   "id": "e3f61958",
   "metadata": {},
   "outputs": [
    {
     "data": {
      "text/plain": [
       "['', '', '', '']"
      ]
     },
     "execution_count": 188,
     "metadata": {},
     "output_type": "execute_result"
    }
   ],
   "source": [
    "l1 = [82, 88, 90, 97]\n",
    "l3 = []\n",
    "l2 = [('English', 88), ('Science', 90), ('Maths', 97), ('Social sciences', 82)]\n",
    "list(map(lambda a,b:l3.append(b) if a in b else \"\",l1,l2))"
   ]
  },
  {
   "cell_type": "code",
   "execution_count": 190,
   "id": "3e93c98e",
   "metadata": {},
   "outputs": [
    {
     "name": "stdout",
     "output_type": "stream",
     "text": [
      "enter the string : kartik\n"
     ]
    },
    {
     "data": {
      "text/plain": [
       "{'k': 2, 'a': 1, 'r': 1, 't': 1, 'i': 1}"
      ]
     },
     "execution_count": 190,
     "metadata": {},
     "output_type": "execute_result"
    }
   ],
   "source": [
    "'''2. Write a Python program to count the number of characters (character frequency) in a string'''\n",
    "#solutions\n",
    "s = input(\"enter the string : \")\n",
    "d = {}\n",
    "for i in s:\n",
    "    s1=s.count(i)\n",
    "    d[i]=s1\n",
    "d\n",
    "    "
   ]
  },
  {
   "cell_type": "markdown",
   "id": "050f645e",
   "metadata": {},
   "source": [
    "# DOUBT"
   ]
  },
  {
   "cell_type": "code",
   "execution_count": 218,
   "id": "36be8ceb",
   "metadata": {},
   "outputs": [
    {
     "name": "stdout",
     "output_type": "stream",
     "text": [
      "[0, 10, 20, 30, 40]\n",
      "[('first', 40), ('second', 30), ('third', 20), ('fourth', 10), ('fifth', 0)]\n",
      "{'first': 40, 'second': 30, 'third': 20, 'fourth': 10, 'fifth': 0}\n"
     ]
    }
   ],
   "source": [
    "\n",
    "'''1. Write a Python script to sort (ascending and descending) a dictionary by value.'''\n",
    "#solutions\n",
    "d1 = {\"first\":40,\"second\":30,\"third\":20,\"fourth\":10,\"fifth\":0}\n",
    "s=[]\n",
    "s1=[]\n",
    "s2=[]\n",
    "for i in d1.values():\n",
    "    s.append(i)\n",
    "    s.sort()\n",
    "print(s)\n",
    "for i in d1.items():\n",
    "    s2.append(i)\n",
    "print(s2)\n",
    "for x in s2:\n",
    "    for y in s:\n",
    "        if y in x:\n",
    "            s1.append(x)\n",
    "s1=dict(s1)\n",
    "print(s1)\n",
    "\n",
    "        "
   ]
  },
  {
   "cell_type": "code",
   "execution_count": 217,
   "id": "1b2cdd15",
   "metadata": {},
   "outputs": [
    {
     "name": "stdout",
     "output_type": "stream",
     "text": [
      "[0, 10, 20, 30, 40]\n",
      "{'fifth': 0, 'fourth': 10, 'third': 20, 'second': 30, 'first': 40}\n"
     ]
    }
   ],
   "source": [
    "'''1. Write a Python script to sort (ascending and descending) a dictionary by value.'''\n",
    "#solutions\n",
    "d1 = {\"first\":40,\"second\":30,\"third\":20,\"fourth\":10,\"fifth\":0}\n",
    "s=[]\n",
    "s1=[]\n",
    "s2=[]\n",
    "for i in d1.values():\n",
    "    s.append(i)\n",
    "    s.sort()\n",
    "print(s)\n",
    "for i in d1.items():\n",
    "    s2.append(i)\n",
    "for i in s:\n",
    "    for x in s2:\n",
    "        if i in x:\n",
    "            s1.append(x)\n",
    "s1=dict(s1)\n",
    "print(s1)\n",
    "        "
   ]
  },
  {
   "cell_type": "code",
   "execution_count": 220,
   "id": "8f99fece",
   "metadata": {},
   "outputs": [
    {
     "name": "stdout",
     "output_type": "stream",
     "text": [
      "[30, 20, 15, 10, 0]\n",
      "[('first', 20), ('second', 30), ('third', 15), ('fourth', 10), ('fifth', 0)]\n",
      "{'second': 30, 'first': 20, 'third': 15, 'fourth': 10, 'fifth': 0}\n"
     ]
    }
   ],
   "source": [
    "'''1. Write a Python script to sort (descending) a dictionary by value.'''\n",
    "#solutions\n",
    "d1 = {\"first\":20,\"second\":30,\"third\":15,\"fourth\":10,\"fifth\":0}\n",
    "s=[]\n",
    "s1=[]\n",
    "s2=[]\n",
    "for i in d1.values():\n",
    "    s.append(i)\n",
    "    s.sort(reverse=True)\n",
    "print(s)\n",
    "for i in d1.items():\n",
    "    s2.append(i)\n",
    "print(s2)\n",
    "for x in s:\n",
    "    for y in s2:\n",
    "        if x in y:\n",
    "            s1.append(y)\n",
    "s1=dict(s1)\n",
    "print(s1)\n",
    "        "
   ]
  },
  {
   "cell_type": "code",
   "execution_count": 327,
   "id": "a1568b5a",
   "metadata": {},
   "outputs": [],
   "source": [
    "'''1. Write a Python script to sort (descending) a dictionary by value.'''\n",
    "d = [{\"first\":20,\"second\":30,\"third\":15,\"fourth\":10,\"fifth\":0}]\n",
    "def func(d):\n",
    "    for i in d:\n",
    "        print(i)\n",
    "        \n",
    "#d.sort(key=func(d))"
   ]
  },
  {
   "cell_type": "code",
   "execution_count": 299,
   "id": "4df4a6d7",
   "metadata": {},
   "outputs": [
    {
     "name": "stdout",
     "output_type": "stream",
     "text": [
      "3\n",
      "24\n",
      "41\n"
     ]
    }
   ],
   "source": [
    "n = [\"2\",\"23\",\"40\"]\n",
    "for i in n:\n",
    "    i=int(i)\n",
    "    s=i+1\n",
    "    print(s)"
   ]
  },
  {
   "cell_type": "code",
   "execution_count": 225,
   "id": "01ebe28f",
   "metadata": {},
   "outputs": [
    {
     "name": "stdout",
     "output_type": "stream",
     "text": [
      "[0, 0]\n",
      "[1, 1]\n",
      "[4, 8]\n",
      "[9, 27]\n",
      "[16, 64]\n",
      "[25, 125]\n"
     ]
    }
   ],
   "source": [
    "def square(a):\n",
    "    return a**2\n",
    "def cube(a):\n",
    "    return a**3\n",
    "func = [square,cube]\n",
    "for i in range(6):\n",
    "    s = list(map(lambda x:x(i),func))\n",
    "    print(s)\n"
   ]
  },
  {
   "cell_type": "code",
   "execution_count": 228,
   "id": "374d29be",
   "metadata": {},
   "outputs": [
    {
     "ename": "NameError",
     "evalue": "name 'k' is not defined",
     "output_type": "error",
     "traceback": [
      "\u001b[1;31m---------------------------------------------------------------------------\u001b[0m",
      "\u001b[1;31mNameError\u001b[0m                                 Traceback (most recent call last)",
      "\u001b[1;32m~\\AppData\\Local\\Temp/ipykernel_25052/3504323407.py\u001b[0m in \u001b[0;36m<module>\u001b[1;34m\u001b[0m\n\u001b[0;32m      1\u001b[0m \u001b[1;32mdef\u001b[0m \u001b[0mfunc_1\u001b[0m\u001b[1;33m(\u001b[0m\u001b[0ma\u001b[0m\u001b[1;33m)\u001b[0m\u001b[1;33m:\u001b[0m\u001b[1;33m\u001b[0m\u001b[1;33m\u001b[0m\u001b[0m\n\u001b[0;32m      2\u001b[0m     \u001b[1;32mreturn\u001b[0m \u001b[0ma\u001b[0m\u001b[1;33m*\u001b[0m\u001b[0mk\u001b[0m\u001b[1;33m\u001b[0m\u001b[1;33m\u001b[0m\u001b[0m\n\u001b[1;32m----> 3\u001b[1;33m \u001b[0mlist\u001b[0m\u001b[1;33m(\u001b[0m\u001b[0mmap\u001b[0m\u001b[1;33m(\u001b[0m\u001b[1;36m20\u001b[0m\u001b[1;33m,\u001b[0m\u001b[0mfunc_1\u001b[0m\u001b[1;33m(\u001b[0m\u001b[1;36m20\u001b[0m\u001b[1;33m)\u001b[0m\u001b[1;33m)\u001b[0m\u001b[1;33m)\u001b[0m\u001b[1;33m\u001b[0m\u001b[1;33m\u001b[0m\u001b[0m\n\u001b[0m",
      "\u001b[1;32m~\\AppData\\Local\\Temp/ipykernel_25052/3504323407.py\u001b[0m in \u001b[0;36mfunc_1\u001b[1;34m(a)\u001b[0m\n\u001b[0;32m      1\u001b[0m \u001b[1;32mdef\u001b[0m \u001b[0mfunc_1\u001b[0m\u001b[1;33m(\u001b[0m\u001b[0ma\u001b[0m\u001b[1;33m)\u001b[0m\u001b[1;33m:\u001b[0m\u001b[1;33m\u001b[0m\u001b[1;33m\u001b[0m\u001b[0m\n\u001b[1;32m----> 2\u001b[1;33m     \u001b[1;32mreturn\u001b[0m \u001b[0ma\u001b[0m\u001b[1;33m*\u001b[0m\u001b[0mk\u001b[0m\u001b[1;33m\u001b[0m\u001b[1;33m\u001b[0m\u001b[0m\n\u001b[0m\u001b[0;32m      3\u001b[0m \u001b[0mlist\u001b[0m\u001b[1;33m(\u001b[0m\u001b[0mmap\u001b[0m\u001b[1;33m(\u001b[0m\u001b[1;36m20\u001b[0m\u001b[1;33m,\u001b[0m\u001b[0mfunc_1\u001b[0m\u001b[1;33m(\u001b[0m\u001b[1;36m20\u001b[0m\u001b[1;33m)\u001b[0m\u001b[1;33m)\u001b[0m\u001b[1;33m)\u001b[0m\u001b[1;33m\u001b[0m\u001b[1;33m\u001b[0m\u001b[0m\n",
      "\u001b[1;31mNameError\u001b[0m: name 'k' is not defined"
     ]
    }
   ],
   "source": [
    "def func_1(a):\n",
    "    return a*k\n",
    "list(map(20,func_1(20)))"
   ]
  },
  {
   "cell_type": "code",
   "execution_count": 230,
   "id": "ead05812",
   "metadata": {},
   "outputs": [
    {
     "name": "stdout",
     "output_type": "stream",
     "text": [
      "[3.14, 12.56, 28.26, 50.24, 78.5]\n"
     ]
    }
   ],
   "source": [
    "pie=3.14\n",
    "def area(r):\n",
    "    return pie*r**2\n",
    "radii = [1,2,3,4,5]\n",
    "#method 1\n",
    "area1=[]\n",
    "for i in radii:\n",
    "    a=area(i)\n",
    "    area1.append(a)\n",
    "print(area1)"
   ]
  },
  {
   "cell_type": "code",
   "execution_count": 231,
   "id": "4c0b1402",
   "metadata": {},
   "outputs": [
    {
     "data": {
      "text/plain": [
       "[3.14, 12.56, 28.26, 50.24, 78.5]"
      ]
     },
     "execution_count": 231,
     "metadata": {},
     "output_type": "execute_result"
    }
   ],
   "source": [
    "#method 2\n",
    "list(map(area,radii))"
   ]
  },
  {
   "cell_type": "code",
   "execution_count": 233,
   "id": "28565463",
   "metadata": {},
   "outputs": [
    {
     "data": {
      "text/plain": [
       "[6, 10, 14, 18]"
      ]
     },
     "execution_count": 233,
     "metadata": {},
     "output_type": "execute_result"
    }
   ],
   "source": [
    "def perimeter(a,b):\n",
    "    return 2*(a+b)\n",
    "list(map(perimeter,[1,2,3,4],[2,3,4,5]))"
   ]
  },
  {
   "cell_type": "code",
   "execution_count": 234,
   "id": "22cafc95",
   "metadata": {},
   "outputs": [
    {
     "data": {
      "text/plain": [
       "[5, 12, 21, 32]"
      ]
     },
     "execution_count": 234,
     "metadata": {},
     "output_type": "execute_result"
    }
   ],
   "source": [
    "def vol(l,b,h):\n",
    "    return l*b*h\n",
    "list(map(vol,[1,2,3,4],[1,1,1,1],[5,6,7,8]))"
   ]
  },
  {
   "cell_type": "markdown",
   "id": "bda9cba4",
   "metadata": {},
   "source": [
    "# lambda is used as a shortcut to work through a functions"
   ]
  },
  {
   "cell_type": "code",
   "execution_count": 235,
   "id": "a0aa7a5c",
   "metadata": {},
   "outputs": [
    {
     "data": {
      "text/plain": [
       "[10, 80, 90, 320]"
      ]
     },
     "execution_count": 235,
     "metadata": {},
     "output_type": "execute_result"
    }
   ],
   "source": [
    "list(map(lambda a,b,c:a*b*c,[1,2,3,4],[1,2,1,2],[10,20,30,40]))"
   ]
  },
  {
   "cell_type": "code",
   "execution_count": 241,
   "id": "2ffbd26e",
   "metadata": {},
   "outputs": [
    {
     "ename": "SyntaxError",
     "evalue": "expression cannot contain assignment, perhaps you meant \"==\"? (Temp/ipykernel_25052/63280830.py, line 13)",
     "output_type": "error",
     "traceback": [
      "\u001b[1;36m  File \u001b[1;32m\"C:\\Users\\bhawna\\AppData\\Local\\Temp/ipykernel_25052/63280830.py\"\u001b[1;36m, line \u001b[1;32m13\u001b[0m\n\u001b[1;33m    s1=list(map(lambda e,f:[e]=f,[a],[b]))\u001b[0m\n\u001b[1;37m                ^\u001b[0m\n\u001b[1;31mSyntaxError\u001b[0m\u001b[1;31m:\u001b[0m expression cannot contain assignment, perhaps you meant \"==\"?\n"
     ]
    }
   ],
   "source": [
    "'''3. Write a Python program to sort a list of tuples using Lambda.\n",
    "Original list of tuples:\n",
    "[('English', 88), ('Science', 90), ('Maths', 97), ('Social sciences', 82)]'''\\\n",
    "#solutions\n",
    "s = [('English', 88), ('Science', 90), ('Maths', 97), ('Social sciences', 82)]\n",
    "s=dict(s)\n",
    "a,b=[],[]\n",
    "for i in s.key():\n",
    "    a.append(i)\n",
    "for x in s.value():\n",
    "    b.append(x)\n",
    "    b.sort()\n",
    "s1=list(map(lambda e,f:[e]=f,[a],[b]))"
   ]
  },
  {
   "cell_type": "code",
   "execution_count": 290,
   "id": "a2c21cbb",
   "metadata": {},
   "outputs": [
    {
     "data": {
      "text/plain": [
       "[('Maths', 97), ('Science', 90), ('English', 88), ('Social sciences', 82)]"
      ]
     },
     "execution_count": 290,
     "metadata": {},
     "output_type": "execute_result"
    }
   ],
   "source": [
    "marks_obtained = [('English', 88), ('Science', 90), ('Maths', 97), ('Social sciences', 82)]\n",
    "marks_obtained.sort(key=lambda subject:subject[-1],reverse=True)\n",
    "marks_obtained"
   ]
  },
  {
   "cell_type": "code",
   "execution_count": 242,
   "id": "103b7f32",
   "metadata": {},
   "outputs": [
    {
     "name": "stdout",
     "output_type": "stream",
     "text": [
      "['VW', 'BMW', 'Ford', 'Mitsubishi']\n"
     ]
    }
   ],
   "source": [
    "# A function that returns the length of the value:\n",
    "def myFunc(e):\n",
    "  return len(e)\n",
    "\n",
    "cars = ['Ford', 'Mitsubishi', 'BMW', 'VW']\n",
    "\n",
    "cars.sort(key=myFunc)\n",
    "\n",
    "print(cars)"
   ]
  },
  {
   "cell_type": "code",
   "execution_count": 285,
   "id": "916102f4",
   "metadata": {},
   "outputs": [
    {
     "data": {
      "text/plain": [
       "['vw', 'bmw', 'ford', 'mitsubishi']"
      ]
     },
     "execution_count": 285,
     "metadata": {},
     "output_type": "execute_result"
    }
   ],
   "source": [
    "'''sort the brand names of cars'''\n",
    "l=[\"ford\",\"mitsubishi\",\"bmw\",\"vw\"]\n",
    "l.sort(key=lambda name:len(name))"
   ]
  },
  {
   "cell_type": "code",
   "execution_count": 249,
   "id": "99e6710b",
   "metadata": {},
   "outputs": [],
   "source": [
    "'''Sort a list of dictionaries based on the \"year\" value of the dictionaries:'''\n",
    "\n",
    "# A function that returns the 'year' value:\n",
    "def myFunc(e):\n",
    "    return e['year']\n",
    "cars = [\n",
    "  {'car': 'Ford', 'year': 2005},\n",
    "  {'car': 'Mitsubishi', 'year': 2000},\n",
    "  {'car': 'BMW', 'year': 2019},\n",
    "  {'car': 'VW', 'year': 2011}\n",
    "]\n",
    "\n",
    "cars.sort(key=myFunc)\n"
   ]
  },
  {
   "cell_type": "code",
   "execution_count": 292,
   "id": "5b9c76af",
   "metadata": {},
   "outputs": [
    {
     "data": {
      "text/plain": [
       "[{'car': 'Mitsubishi', 'year': 2000},\n",
       " {'car': 'Ford', 'year': 2005},\n",
       " {'car': 'VW', 'year': 2011},\n",
       " {'car': 'BMW', 'year': 2019}]"
      ]
     },
     "execution_count": 292,
     "metadata": {},
     "output_type": "execute_result"
    }
   ],
   "source": [
    "#above question using anonymous function\n",
    "s = [\n",
    "  {'car': 'Ford', 'year': 2005},\n",
    "  {'car': 'Mitsubishi', 'year': 2000},\n",
    "  {'car': 'BMW', 'year': 2019},\n",
    "  {'car': 'VW', 'year': 2011}\n",
    "]\n",
    "s.sort(key=lambda titles:titles[\"year\"])\n",
    "s"
   ]
  },
  {
   "cell_type": "code",
   "execution_count": 253,
   "id": "058e793e",
   "metadata": {},
   "outputs": [
    {
     "data": {
      "text/plain": [
       "4"
      ]
     },
     "execution_count": 253,
     "metadata": {},
     "output_type": "execute_result"
    }
   ],
   "source": [
    "f=lambda a:a**2\n",
    "f(2)"
   ]
  },
  {
   "cell_type": "code",
   "execution_count": 259,
   "id": "2c7ea7c4",
   "metadata": {},
   "outputs": [
    {
     "data": {
      "text/plain": [
       "'KARTIK Negi'"
      ]
     },
     "execution_count": 259,
     "metadata": {},
     "output_type": "execute_result"
    }
   ],
   "source": [
    "f = lambda a,b:a.title().upper() +\" \"+b.title()\n",
    "f(\"kartik\",\"negi\")"
   ]
  },
  {
   "cell_type": "code",
   "execution_count": 281,
   "id": "1d4c3ef2",
   "metadata": {},
   "outputs": [
    {
     "data": {
      "text/plain": [
       "['ray Bradhury', 'robert heinlein', 'frank herbert', 'isaac newton']"
      ]
     },
     "execution_count": 281,
     "metadata": {},
     "output_type": "execute_result"
    }
   ],
   "source": [
    "authors = [\"isaac newton\",\"ray Bradhury\",\"robert heinlein\",\"frank herbert\"]\n",
    "authors.sort(key=lambda name_:name_.split(\" \")[-1])\n",
    "authors"
   ]
  },
  {
   "cell_type": "code",
   "execution_count": 278,
   "id": "de043ec0",
   "metadata": {},
   "outputs": [
    {
     "data": {
      "text/plain": [
       "['kartik', 'negi']"
      ]
     },
     "execution_count": 278,
     "metadata": {},
     "output_type": "execute_result"
    }
   ],
   "source": [
    "s = \"kartik negi\"\n",
    "s.split()"
   ]
  },
  {
   "cell_type": "code",
   "execution_count": 279,
   "id": "41caa565",
   "metadata": {},
   "outputs": [
    {
     "data": {
      "text/plain": [
       "18"
      ]
     },
     "execution_count": 279,
     "metadata": {},
     "output_type": "execute_result"
    }
   ],
   "source": [
    "a,b,c=1,2,3\n",
    "f = lambda x:a*x**2+b*x+c\n",
    "f(3)"
   ]
  },
  {
   "cell_type": "code",
   "execution_count": null,
   "id": "6828ef93",
   "metadata": {},
   "outputs": [],
   "source": [
    "l1=[1, 2, 3, 5, 7, 8, 9, 10]\n",
    "s1=set(l1)\n",
    "l2=[1, 2, 4, 8, 9]\n",
    "s2=set(l2)\n",
    "a = lambda x,y:"
   ]
  },
  {
   "cell_type": "code",
   "execution_count": null,
   "id": "be6174f4",
   "metadata": {},
   "outputs": [],
   "source": [
    "q12."
   ]
  }
 ],
 "metadata": {
  "kernelspec": {
   "display_name": "Python 3 (ipykernel)",
   "language": "python",
   "name": "python3"
  },
  "language_info": {
   "codemirror_mode": {
    "name": "ipython",
    "version": 3
   },
   "file_extension": ".py",
   "mimetype": "text/x-python",
   "name": "python",
   "nbconvert_exporter": "python",
   "pygments_lexer": "ipython3",
   "version": "3.9.7"
  }
 },
 "nbformat": 4,
 "nbformat_minor": 5
}
