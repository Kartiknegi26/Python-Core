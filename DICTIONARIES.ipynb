{
 "cells": [
  {
   "cell_type": "code",
   "execution_count": 13,
   "id": "06eab642",
   "metadata": {},
   "outputs": [
    {
     "data": {
      "text/plain": [
       "{'bhawna': 30,\n",
       " 'kritika': 40,\n",
       " 'jatin': 40,\n",
       " 'kartik': 50,\n",
       " 'varun': 60,\n",
       " 'dhruv': 80}"
      ]
     },
     "execution_count": 13,
     "metadata": {},
     "output_type": "execute_result"
    }
   ],
   "source": [
    "'''1. Write a Python script to sort (ascending and descending) a dictionary by value. '''\n",
    "#solution\n",
    "l = {\"kartik\":50,\"kritika\":40,\"bhawna\":30,\"varun\":60,\"dhruv\":80,\"jatin\":40}\n",
    "l1=l.items()\n",
    "l1 = list(l1)\n",
    "l1.sort(key=lambda a:a[1])\n",
    "l1 = dict(l1)\n",
    "l1"
   ]
  },
  {
   "cell_type": "code",
   "execution_count": 18,
   "id": "b1448b74",
   "metadata": {},
   "outputs": [
    {
     "data": {
      "text/plain": [
       "{'dhruv': 80,\n",
       " 'varun': 60,\n",
       " 'kartik': 50,\n",
       " 'kritika': 40,\n",
       " 'jatin': 40,\n",
       " 'bhawna': 30}"
      ]
     },
     "execution_count": 18,
     "metadata": {},
     "output_type": "execute_result"
    }
   ],
   "source": [
    "#2..  descending\n",
    "l = {\"kartik\":50,\"kritika\":40,\"bhawna\":30,\"varun\":60,\"dhruv\":80,\"jatin\":40}\n",
    "L=list(l.items())\n",
    "L.sort(key=lambda a:a[1],reverse=True)\n",
    "L = dict(L)\n",
    "L"
   ]
  },
  {
   "cell_type": "code",
   "execution_count": 21,
   "id": "55cb616c",
   "metadata": {},
   "outputs": [
    {
     "data": {
      "text/plain": [
       "{0: 10, 1: 20, 2: 30}"
      ]
     },
     "execution_count": 21,
     "metadata": {},
     "output_type": "execute_result"
    }
   ],
   "source": [
    "'''2. Write a Python script to add a key to a dictionary. Go to the editor\n",
    "\n",
    "Sample Dictionary : {0: 10, 1: 20}\n",
    "Expected Result : {0: 10, 1: 20, 2: 30}'''\n",
    "#solution\n",
    "dict1 = {0:10,1:20}\n",
    "dict1[2]=30\n",
    "dict1"
   ]
  },
  {
   "cell_type": "code",
   "execution_count": 37,
   "id": "95c9f4d4",
   "metadata": {},
   "outputs": [
    {
     "data": {
      "text/plain": [
       "{1: 10, 2: 20, 3: 30, 4: 40, 5: 50, 6: 60}"
      ]
     },
     "execution_count": 37,
     "metadata": {},
     "output_type": "execute_result"
    }
   ],
   "source": [
    "'''3. Write a Python script to concatenate following dictionaries to create a new one. Go to the editor\n",
    "\n",
    "Sample Dictionary :\n",
    "dic1={1:10, 2:20}\n",
    "dic2={3:30, 4:40}\n",
    "dic3={5:50,6:60}\n",
    "Expected Result : {1: 10, 2: 20, 3: 30, 4: 40, 5: 50, 6: 60}'''\n",
    "#solution\n",
    "dic1={1:10, 2:20}\n",
    "dic2={3:30, 4:40}\n",
    "dic3={5:50,6:60}\n",
    "dic4={}\n",
    "for i in (dic1,dic2,dic3):\n",
    "    dic4.update(i)\n",
    "dic4\n",
    "    "
   ]
  },
  {
   "cell_type": "code",
   "execution_count": 3,
   "id": "149c3c24",
   "metadata": {},
   "outputs": [
    {
     "name": "stdout",
     "output_type": "stream",
     "text": [
      "enter the key:45\n",
      "45 is not present\n"
     ]
    }
   ],
   "source": [
    "'''4. Write a Python script to check whether a given key already exists in a dictionary. '''\n",
    "d = {1:2,3:4,5:6,7:8}\n",
    "x = int(input(\"enter the key:\"))\n",
    "if x in d:\n",
    "    print(x,\"is present\")\n",
    "else:\n",
    "    print(x,\"is not present\")\n"
   ]
  },
  {
   "cell_type": "code",
   "execution_count": 4,
   "id": "88e607d7",
   "metadata": {},
   "outputs": [
    {
     "name": "stdout",
     "output_type": "stream",
     "text": [
      "enter the number: 7\n"
     ]
    },
    {
     "data": {
      "text/plain": [
       "{1: 1, 2: 4, 3: 9, 4: 16, 5: 25, 6: 36, 7: 49}"
      ]
     },
     "execution_count": 4,
     "metadata": {},
     "output_type": "execute_result"
    }
   ],
   "source": [
    "'''Q. 6. Write a Python script to generate and print a dictionary that contains\n",
    "a number (between 1 and n) in the form (x, x*x).'''\n",
    "#solution\n",
    "d = {}\n",
    "n = int(input(\"enter the number: \"))\n",
    "for i in range(1,n+1):\n",
    "    d[i]=i**2\n",
    "d"
   ]
  },
  {
   "cell_type": "code",
   "execution_count": null,
   "id": "5f8b9d9b",
   "metadata": {},
   "outputs": [],
   "source": [
    "'''8. Write a Python script to merge two Python dictionaries.'''\n",
    "#solutions\n",
    "d1 = {1:2,3:4,5:6,7:8,9:10}\n",
    "d2 = {11:2,:12:34,14:57}\n",
    "d1.update()\n"
   ]
  }
 ],
 "metadata": {
  "kernelspec": {
   "display_name": "Python 3 (ipykernel)",
   "language": "python",
   "name": "python3"
  },
  "language_info": {
   "codemirror_mode": {
    "name": "ipython",
    "version": 3
   },
   "file_extension": ".py",
   "mimetype": "text/x-python",
   "name": "python",
   "nbconvert_exporter": "python",
   "pygments_lexer": "ipython3",
   "version": "3.9.7"
  }
 },
 "nbformat": 4,
 "nbformat_minor": 5
}
