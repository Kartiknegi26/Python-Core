{
 "cells": [
  {
   "cell_type": "code",
   "execution_count": 3,
   "id": "7c9b4189",
   "metadata": {},
   "outputs": [
    {
     "data": {
      "text/plain": [
       "2"
      ]
     },
     "execution_count": 3,
     "metadata": {},
     "output_type": "execute_result"
    }
   ],
   "source": [
    "def fun(a,b):\n",
    "    yield a*b\n",
    "\n",
    "s = iter(fun(1,2))\n",
    "next(s)"
   ]
  },
  {
   "cell_type": "code",
   "execution_count": 6,
   "id": "83729c72",
   "metadata": {},
   "outputs": [
    {
     "data": {
      "text/plain": [
       "0"
      ]
     },
     "execution_count": 6,
     "metadata": {},
     "output_type": "execute_result"
    }
   ],
   "source": [
    "def fun1(n):\n",
    "    for i in range(n):\n",
    "        yield i**2\n",
    "        \n",
    "s = iter(fun1(6))\n",
    "next(s)"
   ]
  },
  {
   "cell_type": "code",
   "execution_count": 10,
   "id": "98f3b326",
   "metadata": {},
   "outputs": [
    {
     "data": {
      "text/plain": [
       "16"
      ]
     },
     "execution_count": 10,
     "metadata": {},
     "output_type": "execute_result"
    }
   ],
   "source": [
    "next(s)"
   ]
  },
  {
   "cell_type": "code",
   "execution_count": 17,
   "id": "b255e8ba",
   "metadata": {},
   "outputs": [
    {
     "name": "stdout",
     "output_type": "stream",
     "text": [
      "enter the string: kriti\n",
      "1\n"
     ]
    }
   ],
   "source": [
    "'''71. Please write a binary search function which searches an item in a sorted list.\n",
    "The function should return the index of element to be searched in the list. \n",
    "Hints: Use if/elif to deal with conditions.'''\n",
    "#solution\n",
    "l = [\"kartik\",\"kriti\",\"varun\",\"bhawna\"]\n",
    "s = input(\"enter the string: \")\n",
    "I=l.index(s)\n",
    "if l.index(s)%2==0:\n",
    "    print(0)\n",
    "else:\n",
    "    print(1)"
   ]
  },
  {
   "cell_type": "code",
   "execution_count": 19,
   "id": "0e13103b",
   "metadata": {},
   "outputs": [
    {
     "data": {
      "text/plain": [
       "[5, 77, 45, 12]"
      ]
     },
     "execution_count": 19,
     "metadata": {},
     "output_type": "execute_result"
    }
   ],
   "source": [
    "'''86. Please write a program to print the list after removing delete even numbers in [5,6,77,45,22,12,24].'''\n",
    "l = [5,6,77,45,22,12,24]\n",
    "l1 = []\n",
    "[l.remove(i) for i in l if i%2==0]\n",
    "l"
   ]
  },
  {
   "cell_type": "code",
   "execution_count": 21,
   "id": "5f5cce8c",
   "metadata": {},
   "outputs": [
    {
     "data": {
      "text/plain": [
       "[24, 35, 70, 88, 120]"
      ]
     },
     "execution_count": 21,
     "metadata": {},
     "output_type": "execute_result"
    }
   ],
   "source": [
    "'''87. By using list comprehension, please write a program to print the list after removing delete numbers which are \n",
    "divisible by 5 and 7 in [12,24,35,70,88,120,155]. '''\n",
    "l = [12,24,35,70,88,120,155]\n",
    "[l.pop(i) for i in range(0,len(l)) if i%5==0 or i%7==0]\n",
    "l"
   ]
  },
  {
   "cell_type": "code",
   "execution_count": null,
   "id": "28002119",
   "metadata": {},
   "outputs": [],
   "source": [
    "'''88. By using list comprehension, please write a program to print the list after removing the \n",
    "0th, 2nd, 4th,6th numbers in [12,24,35,70,88,120,155]. '''\n",
    "#solution\n",
    "l = [12,24,35,70,88,120,155]\n"
   ]
  },
  {
   "cell_type": "code",
   "execution_count": 23,
   "id": "e777d702",
   "metadata": {},
   "outputs": [
    {
     "data": {
      "text/plain": [
       "35"
      ]
     },
     "execution_count": 23,
     "metadata": {},
     "output_type": "execute_result"
    }
   ],
   "source": [
    "'''1. Write a Python function to find the Max of three numbers. '''\n",
    "def fun(n):\n",
    "    m = max(n)\n",
    "    return m\n",
    "\n",
    "fun(n=[12,35,10])\n",
    "    "
   ]
  },
  {
   "cell_type": "code",
   "execution_count": 25,
   "id": "43cf6789",
   "metadata": {},
   "outputs": [
    {
     "data": {
      "text/plain": [
       "15"
      ]
     },
     "execution_count": 25,
     "metadata": {},
     "output_type": "execute_result"
    }
   ],
   "source": [
    "'''2. Write a Python function to sum all the numbers in a list. Go to the editor\n",
    "Sample List : (8, 2, 3, 0, 7)\n",
    "Expected Output : 20'''\n",
    "#solution\n",
    "def fun2(l):\n",
    "    x = 0\n",
    "    for i in l:\n",
    "        s = i+x\n",
    "        x = s\n",
    "    return s\n",
    "\n",
    "fun2(l=[1,2,3,4,5])\n",
    "        "
   ]
  },
  {
   "cell_type": "code",
   "execution_count": 26,
   "id": "b9295ca9",
   "metadata": {},
   "outputs": [
    {
     "data": {
      "text/plain": [
       "-336"
      ]
     },
     "execution_count": 26,
     "metadata": {},
     "output_type": "execute_result"
    }
   ],
   "source": [
    "'''3. Write a Python function to multiply all the numbers in a list. Go to the editor\n",
    "Sample List : (8, 2, 3, -1, 7)\n",
    "Expected Output : -336'''\n",
    "#solution\n",
    "def fun3(l):\n",
    "    x = 1\n",
    "    for i in l:\n",
    "        m = i*x\n",
    "        x = m\n",
    "    return m\n",
    "\n",
    "fun3(l=[8,2,3,-1,7])\n",
    "        "
   ]
  },
  {
   "cell_type": "code",
   "execution_count": 27,
   "id": "606b75b0",
   "metadata": {},
   "outputs": [
    {
     "data": {
      "text/plain": [
       "'kitrak'"
      ]
     },
     "execution_count": 27,
     "metadata": {},
     "output_type": "execute_result"
    }
   ],
   "source": [
    "'''4. Write a Python program to reverse a string. Go to the editor\n",
    "Sample String : \"1234abcd\"\n",
    "Expected Output : \"dcba4321\"'''\n",
    "#solution\n",
    "def fun4(s):\n",
    "    return s[::-1]\n",
    "\n",
    "fun4(\"kartik\")"
   ]
  },
  {
   "cell_type": "code",
   "execution_count": 29,
   "id": "1bf154d3",
   "metadata": {},
   "outputs": [
    {
     "data": {
      "text/plain": [
       "120"
      ]
     },
     "execution_count": 29,
     "metadata": {},
     "output_type": "execute_result"
    }
   ],
   "source": [
    "'''5. Write a Python function to calculate the factorial of a number (a non-negative integer).\n",
    "The function accepts the number as an argument.'''\n",
    "#solution\n",
    "def fun5(n):\n",
    "    x = 1\n",
    "    for i in range(1,n+1):\n",
    "        fact = i*x\n",
    "        x = fact\n",
    "    return fact\n",
    "\n",
    "fun5(5)"
   ]
  },
  {
   "cell_type": "code",
   "execution_count": 31,
   "id": "c3559526",
   "metadata": {},
   "outputs": [
    {
     "data": {
      "text/plain": [
       "True"
      ]
     },
     "execution_count": 31,
     "metadata": {},
     "output_type": "execute_result"
    }
   ],
   "source": [
    "'''6. Write a Python function to check whether a number falls in a given range.'''\n",
    "#solution\n",
    "def fun6(num,ran):\n",
    "    if num in range(ran):\n",
    "        return True\n",
    "    \n",
    "fun6(1,10)"
   ]
  },
  {
   "cell_type": "code",
   "execution_count": 33,
   "id": "71641e89",
   "metadata": {},
   "outputs": [
    {
     "name": "stdout",
     "output_type": "stream",
     "text": [
      "No. of lower case: 6\n",
      "No. of upper case: 4\n"
     ]
    }
   ],
   "source": [
    "'''7. Write a Python function that accepts a string and \n",
    "calculate the number of upper case letters and lower case letters. Go to the editor'''\n",
    "#solution\n",
    "def fun7(s):\n",
    "    c1,c2=0,0\n",
    "    for i in s:\n",
    "        if i.islower():\n",
    "            c1 = c1+1\n",
    "        elif i.isupper():\n",
    "            c2= c2+1\n",
    "    print(\"No. of lower case:\",c1)\n",
    "    print(\"No. of upper case:\",c2)\n",
    "\n",
    "fun7(\"kartikNEGI\")"
   ]
  },
  {
   "cell_type": "code",
   "execution_count": 34,
   "id": "cbffbb17",
   "metadata": {},
   "outputs": [
    {
     "data": {
      "text/plain": [
       "{1, 2, 3, 4, 5, 6, 7, 77}"
      ]
     },
     "execution_count": 34,
     "metadata": {},
     "output_type": "execute_result"
    }
   ],
   "source": [
    "'''8. Write a Python function that takes a list and returns a new list with unique elements of the first list. '''\n",
    "def fun8(l):\n",
    "    l = set(l)\n",
    "    return l\n",
    "fun8(l=[1,2,3,4,5,6,6,7,77,2,4,5])"
   ]
  },
  {
   "cell_type": "code",
   "execution_count": 38,
   "id": "ef57b258",
   "metadata": {},
   "outputs": [
    {
     "name": "stdout",
     "output_type": "stream",
     "text": [
      "17 is a prime number\n"
     ]
    }
   ],
   "source": [
    "'''9. Write a Python function that takes a number as a parameter and check the number is prime or not.'''\n",
    "#solution\n",
    "def fun9(n):\n",
    "    x = 0\n",
    "    for i in range(1,n+1):\n",
    "        if n%i==0:\n",
    "            x=x+1\n",
    "    if x<=2:\n",
    "        print(n,\"is a prime number\")\n",
    "    else:\n",
    "        print(n,\"is not a prime number\")\n",
    "        \n",
    "fun9(17)\n",
    "\n",
    "        "
   ]
  },
  {
   "cell_type": "code",
   "execution_count": 6,
   "id": "59f4f10a",
   "metadata": {},
   "outputs": [
    {
     "name": "stdout",
     "output_type": "stream",
     "text": [
      "it is a pallindrome\n"
     ]
    }
   ],
   "source": [
    "'''A phrase is a pallindrome if after converting all uppercase\n",
    "letters into lowercase lettersand removing all non-alpha numeric characters\n",
    ",it reads the same froward and backward. Alphanumeric characters include\n",
    "letters and numbers.\n",
    "Given string: \"A man, a plan, a canal: Panama\"\n",
    "output : True'''\n",
    "s = \"A man, a plan, a canal: Panama\"\n",
    "l = []\n",
    "for i in s:\n",
    "    if i.isalnum():\n",
    "        i = i.lower()\n",
    "        l.append(i)\n",
    "if l[::]==l[::-1]:\n",
    "    print(\"it is a pallindrome\")\n",
    "else:\n",
    "    print(\"it is not a pallindrome\")\n",
    "        "
   ]
  },
  {
   "cell_type": "code",
   "execution_count": 14,
   "id": "a782235e",
   "metadata": {},
   "outputs": [
    {
     "name": "stdout",
     "output_type": "stream",
     "text": [
      "Mona\n",
      "Gilbert\n",
      "Ford\n"
     ]
    }
   ],
   "source": [
    "'''party_attendees = ['Adela', 'Fleda', 'Owen', 'May', 'Mona', 'Gilbert', 'Ford','golu']\n",
    "A guest is considered 'fashionably late' if they arrived after at \n",
    "least half of the party's guests. However, they must not be the very last \n",
    "guest (that's taking it too far). In the above example, Mona and Gilbert are the only guests who were fashionably late.\n",
    "'''\n",
    "l = ['Adela', 'Fleda', 'Owen', 'May', 'Mona', 'Gilbert', 'Ford','golu']\n",
    "n = len(l)*0.5\n",
    "for i in range(len(l)):\n",
    "    if i>=n and i!=len(l)-1:\n",
    "        print(l[i])"
   ]
  },
  {
   "cell_type": "code",
   "execution_count": 20,
   "id": "b4ec5eb7",
   "metadata": {},
   "outputs": [
    {
     "name": "stdout",
     "output_type": "stream",
     "text": [
      "P\n",
      "gg\n"
     ]
    }
   ],
   "source": [
    "'''72. Write a Python code to remove all characters except a specified character in a given string.\n",
    "Original string\n",
    "Python Exercises\n",
    "Remove all characters except P in the said string:\n",
    "P\n",
    "Original string\n",
    "google\n",
    "Remove all characters except g in the said string:\n",
    "gg\n",
    "Original string\n",
    "exercises\n",
    "Remove all characters except e in the said string:\n",
    "eee'''\n",
    "s = \"Python Exercises\"\n",
    "for i in s:\n",
    "    if i!=\"P\":\n",
    "        s=s.replace(i,\"\")\n",
    "print(s)\n",
    "s1 = \"google\"\n",
    "for i in s1:\n",
    "    if i!=\"g\":\n",
    "        s1 = s1.replace(i,\"\")\n",
    "print(s1)\n",
    "s2 = \"exercises\"\n",
    "for i in "
   ]
  },
  {
   "cell_type": "code",
   "execution_count": null,
   "id": "0eb37be8",
   "metadata": {},
   "outputs": [],
   "source": []
  }
 ],
 "metadata": {
  "kernelspec": {
   "display_name": "Python 3 (ipykernel)",
   "language": "python",
   "name": "python3"
  },
  "language_info": {
   "codemirror_mode": {
    "name": "ipython",
    "version": 3
   },
   "file_extension": ".py",
   "mimetype": "text/x-python",
   "name": "python",
   "nbconvert_exporter": "python",
   "pygments_lexer": "ipython3",
   "version": "3.9.7"
  }
 },
 "nbformat": 4,
 "nbformat_minor": 5
}
