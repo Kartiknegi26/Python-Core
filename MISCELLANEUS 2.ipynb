{
 "cells": [
  {
   "cell_type": "code",
   "execution_count": null,
   "id": "4300c3e4",
   "metadata": {},
   "outputs": [],
   "source": [
    "'''find the sum of the given list elements'''\n",
    "s = [1,22,34,45,56]\n",
    "x=0\n",
    "for i in s:\n",
    "    z=i+x\n",
    "    x=z\n",
    "print(z)\n",
    "    "
   ]
  },
  {
   "cell_type": "code",
   "execution_count": null,
   "id": "24d10f03",
   "metadata": {},
   "outputs": [],
   "source": [
    "'''write a python program to multiply the items in a list'''\n",
    "l=[1,8,9]\n",
    "x=1\n",
    "for i in l:\n",
    "    z=i*x\n",
    "    x=z\n",
    "print(z)"
   ]
  },
  {
   "cell_type": "code",
   "execution_count": null,
   "id": "56621611",
   "metadata": {},
   "outputs": [],
   "source": [
    "'''Write a Python program to count the number of strings where the\n",
    "string length is 2 or more and the first and last character are same from a given list of strings. Go to the editor\n",
    "Sample List : ['abc', 'xyz', 'aba', '1221']'''\n",
    "#solution\n",
    "count = 0\n",
    "a=[]\n",
    "l = ['abc', 'xyz', 'aba', '1221','nitin']\n",
    "for i in l:\n",
    "    if i[0]==i[-1] and len(i)>=2:\n",
    "        count=count+1\n",
    "        a.append(i)\n",
    "\n",
    "        \n",
    "print(count)\n",
    "print(a)"
   ]
  },
  {
   "cell_type": "code",
   "execution_count": null,
   "id": "00cd8966",
   "metadata": {},
   "outputs": [],
   "source": [
    "'''q6.Write a Python program to get a list, \n",
    "sorted in increasing order by the last element in each tuple from a given list of non-empty tuples.\n",
    "Sample List : [(2, 5), (1, 2), (4, 4), (2, 3), (2, 1)]\n",
    "Expected Result : [(2, 1), (1, 2), (2, 3), (4, 4), (2, 5)]'''\n",
    "#solution\n",
    "l1=[(2, 5), (1, 2), (4, 4), (2, 3), (2, 1)]\n",
    "l=[]\n",
    "for i in l1:\n",
    "    i=list(i)\n",
    "    i.sort()\n",
    "    i=tuple(i)\n",
    "    l.append(i)\n",
    "print(l)\n",
    "    "
   ]
  }
 ],
 "metadata": {
  "kernelspec": {
   "display_name": "Python 3 (ipykernel)",
   "language": "python",
   "name": "python3"
  },
  "language_info": {
   "codemirror_mode": {
    "name": "ipython",
    "version": 3
   },
   "file_extension": ".py",
   "mimetype": "text/x-python",
   "name": "python",
   "nbconvert_exporter": "python",
   "pygments_lexer": "ipython3",
   "version": "3.9.7"
  }
 },
 "nbformat": 4,
 "nbformat_minor": 5
}
