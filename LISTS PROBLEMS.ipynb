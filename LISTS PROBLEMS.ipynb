{
 "cells": [
  {
   "cell_type": "code",
   "execution_count": 2,
   "id": "ea6c3c55",
   "metadata": {},
   "outputs": [
    {
     "name": "stdout",
     "output_type": "stream",
     "text": [
      "sum of the list is: 28\n"
     ]
    }
   ],
   "source": [
    "'''1. Write a Python program to sum all the items in a list.'''\n",
    "#solution\n",
    "L = [1,2,3,4,5,6,7]\n",
    "x=0\n",
    "for i in L:\n",
    "    sum = i + x\n",
    "    x = sum\n",
    "print(\"sum of the list is:\",sum)\n",
    "    "
   ]
  },
  {
   "cell_type": "code",
   "execution_count": 4,
   "id": "8dd8ca08",
   "metadata": {},
   "outputs": [
    {
     "name": "stdout",
     "output_type": "stream",
     "text": [
      "product of the list: 120\n"
     ]
    }
   ],
   "source": [
    "'''2. Write a Python program to multiply the items'''\n",
    "#solutions\n",
    "L = [1,2,3,4,5]\n",
    "x = 1\n",
    "for i in L:\n",
    "    product = i * x\n",
    "    x = product\n",
    "print(\"product of the list:\",product)"
   ]
  },
  {
   "cell_type": "code",
   "execution_count": 6,
   "id": "f9f9122f",
   "metadata": {},
   "outputs": [
    {
     "name": "stdout",
     "output_type": "stream",
     "text": [
      "number of strings that meet required conditions are: 3\n",
      "['xyx', 'yyy', 'rcgr']\n"
     ]
    }
   ],
   "source": [
    "'''3. Write a Python program to count the number of strings where the string length is 2 or more \n",
    "and the first and last character are same from a given list of strings. '''\n",
    "#solution\n",
    "l = [\"xyx\",\"abc\",\"ab\",\"xyz\",\"yyy\",\"rcgr\"]\n",
    "c = 0\n",
    "x = []\n",
    "for i in l:\n",
    "    if len(i)>=2:\n",
    "        if i[0]==i[-1]:\n",
    "            x.append(i)\n",
    "            c = c + 1\n",
    "        else:\n",
    "            pass\n",
    "    else:\n",
    "        continue\n",
    "print(\"number of strings that meet required conditions are:\",c)\n",
    "print(x)\n",
    "            "
   ]
  },
  {
   "cell_type": "code",
   "execution_count": 15,
   "id": "1c354c23",
   "metadata": {},
   "outputs": [
    {
     "data": {
      "text/plain": [
       "[(2, 1), (1, 2), (2, 3), (4, 4), (2, 5)]"
      ]
     },
     "execution_count": 15,
     "metadata": {},
     "output_type": "execute_result"
    }
   ],
   "source": [
    "'''4. Write a Python program to get a list, sorted in increasing order by the last element in each tuple from a\n",
    "given list of non-empty tuples.'''\n",
    "#solutions\n",
    "l = [(2, 5), (1, 2), (4, 4), (2, 3), (2, 1)]\n",
    "l.sort(key=lambda x:x[1])\n",
    "l"
   ]
  },
  {
   "cell_type": "code",
   "execution_count": 16,
   "id": "a1cf3d2c",
   "metadata": {},
   "outputs": [
    {
     "data": {
      "text/plain": [
       "{'alberto', 'alfred', 'arturito', 'david', 'marquel'}"
      ]
     },
     "execution_count": 16,
     "metadata": {},
     "output_type": "execute_result"
    }
   ],
   "source": [
    "'''Q5. Write a Python program to remove duplicates from a list. '''\n",
    "#soltuion\n",
    "l = [\"alfred\",\"david\",\"alberto\",\"arturito\",\"alfred\",\"marquel\",\"david\"]\n",
    "s = set(l)\n",
    "s"
   ]
  },
  {
   "cell_type": "code",
   "execution_count": 20,
   "id": "2d983d31",
   "metadata": {},
   "outputs": [
    {
     "name": "stdout",
     "output_type": "stream",
     "text": [
      "['Green', 'White', 'Black']\n"
     ]
    }
   ],
   "source": [
    "'''Q.6. Write a Python program to print a specified list after removing the 0th, 4th and 5th elements.'''\n",
    "#solutions\n",
    "l = ['Red', 'Green', 'White', 'Black', 'Pink', 'Yellow']\n",
    "print(l[1:4])\n"
   ]
  },
  {
   "cell_type": "code",
   "execution_count": 21,
   "id": "2edef0b2",
   "metadata": {},
   "outputs": [
    {
     "data": {
      "text/plain": [
       "[2, 4, 6, 8, 10]"
      ]
     },
     "execution_count": 21,
     "metadata": {},
     "output_type": "execute_result"
    }
   ],
   "source": [
    "'''Q.7 . Write a Python program to print the numbers of a specified list after removing even numbers from it.'''\n",
    "L = [1,2,3,4,5,6,7,8,9,10]\n",
    "list(filter(lambda x:x%2==0,L))"
   ]
  },
  {
   "cell_type": "code",
   "execution_count": 33,
   "id": "12e084b2",
   "metadata": {},
   "outputs": [
    {
     "name": "stdout",
     "output_type": "stream",
     "text": [
      "{'varun', 'kritika', 'kartik', 'sweta', 'bhawna'}\n"
     ]
    }
   ],
   "source": [
    "'''Q8. Write a Python program to shuffle and print a specified list.'''\n",
    "#SOLUTION\n",
    "l = [\"kartik\",\"kritika\",\"bhawna\",\"varun\",\"sweta\"]\n",
    "print(set(l))"
   ]
  },
  {
   "cell_type": "code",
   "execution_count": 40,
   "id": "66e2eeae",
   "metadata": {},
   "outputs": [
    {
     "name": "stdout",
     "output_type": "stream",
     "text": [
      "[2, 4, 6, 8, 10, 22, 24, 26, 28, 30]\n"
     ]
    }
   ],
   "source": [
    "'''Q.9  Write a Python program to generate and print a list of first and \n",
    "last 5 elements where the values are square of numbers between 1 and 30 (both included). '''\n",
    "#solutions\n",
    "a,b=[],[]\n",
    "for i in range(1,31):\n",
    "    if i%2==0:\n",
    "        a.append(i)\n",
    "    else:\n",
    "        continue\n",
    "print(a[:5]+a[-5:])"
   ]
  },
  {
   "cell_type": "code",
   "execution_count": 44,
   "id": "35c1be89",
   "metadata": {},
   "outputs": [
    {
     "name": "stdout",
     "output_type": "stream",
     "text": [
      "123445"
     ]
    }
   ],
   "source": [
    "'''Q.10 Write a Python program to convert a list of multiple integers into a single integer. '''\n",
    "#solutions\n",
    "l = [1,2,3,44,5]\n",
    "for i in l:\n",
    "     print(i,end=\"\")"
   ]
  },
  {
   "cell_type": "code",
   "execution_count": null,
   "id": "4df8ccc7",
   "metadata": {},
   "outputs": [],
   "source": []
  }
 ],
 "metadata": {
  "kernelspec": {
   "display_name": "Python 3 (ipykernel)",
   "language": "python",
   "name": "python3"
  },
  "language_info": {
   "codemirror_mode": {
    "name": "ipython",
    "version": 3
   },
   "file_extension": ".py",
   "mimetype": "text/x-python",
   "name": "python",
   "nbconvert_exporter": "python",
   "pygments_lexer": "ipython3",
   "version": "3.9.7"
  }
 },
 "nbformat": 4,
 "nbformat_minor": 5
}
