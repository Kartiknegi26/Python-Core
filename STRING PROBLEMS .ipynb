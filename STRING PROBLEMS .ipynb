{
 "cells": [
  {
   "cell_type": "code",
   "execution_count": 1,
   "id": "020f5e6e",
   "metadata": {},
   "outputs": [
    {
     "name": "stdout",
     "output_type": "stream",
     "text": [
      "enter the string = kusguyfsuyfsiyfystwiyugwiy\n",
      "26\n"
     ]
    }
   ],
   "source": [
    "'''Q1. WAP to calculate the length of a string '''\n",
    "#solutions\n",
    "s = input(\"enter the string = \")\n",
    "print(len(s))\n"
   ]
  },
  {
   "cell_type": "code",
   "execution_count": 2,
   "id": "71c17243",
   "metadata": {},
   "outputs": [
    {
     "name": "stdout",
     "output_type": "stream",
     "text": [
      "G = 2  O =  3  L = 1  E = 1 C = 1 M = 1\n"
     ]
    }
   ],
   "source": [
    "'''Q2. Write a python program to print the number of characters \n",
    "(character frequency) in a string'''\n",
    "#solution\n",
    "n = \"google.com\"\n",
    "G = 0\n",
    "O = 0\n",
    "L = 0\n",
    "C=0\n",
    "E = 0\n",
    "M = 0\n",
    "for i in n:\n",
    "    if i==\"g\":\n",
    "        G = G+1\n",
    "    elif i==\"o\":\n",
    "        O = O+1\n",
    "    elif i==\"l\":\n",
    "        L = L+1\n",
    "    elif i==\"e\":\n",
    "        E = E+1\n",
    "    elif i==\"c\":\n",
    "        C = C+1\n",
    "    elif i==\"m\":\n",
    "        M = M+1\n",
    "print(\"G =\",G,\" O = \",O,\" L =\",L,\" E =\",E,\"C =\",C,\"M =\",M)\n",
    "\n",
    "        \n",
    "        \n",
    "        \n",
    "        "
   ]
  },
  {
   "cell_type": "code",
   "execution_count": 10,
   "id": "1f2102a2",
   "metadata": {},
   "outputs": [
    {
     "name": "stdout",
     "output_type": "stream",
     "text": [
      "enter the string kartik\n"
     ]
    },
    {
     "data": {
      "text/plain": [
       "'ka||ik'"
      ]
     },
     "execution_count": 10,
     "metadata": {},
     "output_type": "execute_result"
    }
   ],
   "source": [
    "'''Q3. write a python program to get a string made with the \n",
    "first two and last two characters of the strings\n",
    "'''\n",
    "s = input(\"enter the string \")\n",
    "s[0:2]+\"||\"+s[-2:]\n"
   ]
  },
  {
   "cell_type": "code",
   "execution_count": 19,
   "id": "b44d3b1b",
   "metadata": {},
   "outputs": [
    {
     "name": "stdout",
     "output_type": "stream",
     "text": [
      "enter the string = kartik\n",
      "k5arti5\n"
     ]
    }
   ],
   "source": [
    "'''Write a Python program to get a string from a given \n",
    "string where all occurrences of its first \n",
    "char have been changed to '$', except the first char itself.'''\n",
    "#solutions\n",
    "s = input(\"enter the string = \")\n",
    "print(s[0]+s.replace(\"k\",\"*\"))\n"
   ]
  },
  {
   "cell_type": "code",
   "execution_count": 21,
   "id": "77381c33",
   "metadata": {},
   "outputs": [
    {
     "name": "stdout",
     "output_type": "stream",
     "text": [
      "enter the first string = 123\n",
      "enter the second string = 456\n",
      "423156\n"
     ]
    }
   ],
   "source": [
    "'''Q5. Write a Python program to get a single string from two given strings, \n",
    "separated by a space and swap the first two characters of each string. '''\n",
    "#SOLUTIONS\n",
    "s1 = input(\"enter the first string = \")\n",
    "s2 = input(\"enter the second string = \")\n",
    "print(s2[0]+s1[1:]+s1[0]+s2[1:])\n",
    "\n",
    "\n"
   ]
  },
  {
   "cell_type": "code",
   "execution_count": 25,
   "id": "c9990e05",
   "metadata": {},
   "outputs": [
    {
     "name": "stdout",
     "output_type": "stream",
     "text": [
      "enter the string = joking\n",
      "jokly\n"
     ]
    }
   ],
   "source": [
    "'''Q6. Write a Python program to add 'ing' at the end of a given string\n",
    "(length should be at least 3). If the given string already ends with 'ing' then add 'ly' instead. \n",
    "If the string length of the given string is less than 3, leave it unchanged'''\n",
    "s = input(\"enter the string = \")\n",
    "if len(s)<3:\n",
    "    print(\"atleast three alphabets required\")\n",
    "else:\n",
    "    if \"ing\" not in s:\n",
    "        print(s+\"ing\")\n",
    "    else:\n",
    "        print(s.replace(\"ing\",\"ly\"))\n",
    "    \n",
    "\n"
   ]
  },
  {
   "cell_type": "code",
   "execution_count": 23,
   "id": "d3edb298",
   "metadata": {},
   "outputs": [
    {
     "data": {
      "text/plain": [
       "6"
      ]
     },
     "execution_count": 23,
     "metadata": {},
     "output_type": "execute_result"
    }
   ],
   "source": [
    "s = \"string\"\n",
    "len(s)"
   ]
  },
  {
   "cell_type": "code",
   "execution_count": 33,
   "id": "eec1d4a0",
   "metadata": {},
   "outputs": [
    {
     "name": "stdout",
     "output_type": "stream",
     "text": [
      "enter the strings containing poor or not or bothclothes are not that poor\n",
      "clothes are good\n"
     ]
    }
   ],
   "source": [
    "'''Q7. Write a Python program to find the first appearance of \n",
    "the substring 'not' and 'poor' from a given string, \n",
    "if 'not' follows the 'poor', replace the whole 'not'...'poor' \n",
    "substring with 'good'. Return the resulting string.'''\n",
    "#SOLUTIONS\n",
    "s = input(\"enter the strings containing poor or not or both\")\n",
    "if \"not\" and \"poor\" in s:\n",
    "    print(s.replace(\"not that poor\",\"good\"))\n",
    "elif \"poor\":\n",
    "    print(s.replace(\"poor\",\"good\"))"
   ]
  },
  {
   "cell_type": "code",
   "execution_count": 27,
   "id": "302911da",
   "metadata": {},
   "outputs": [
    {
     "data": {
      "text/plain": [
       "'the lyrics are good'"
      ]
     },
     "execution_count": 27,
     "metadata": {},
     "output_type": "execute_result"
    }
   ],
   "source": [
    "s = \"the lyrics is good\"\n",
    "s.replace(\"good\",\"poor\")\n",
    "s.replace(\"is\",\"good\")"
   ]
  },
  {
   "cell_type": "code",
   "execution_count": 53,
   "id": "dccaa0c1",
   "metadata": {},
   "outputs": [
    {
     "name": "stdout",
     "output_type": "stream",
     "text": [
      "11\n"
     ]
    }
   ],
   "source": [
    "'''Q8.  Write a Python function that takes a list of\n",
    "words and return the longest word and the length of the longest one. Go to the editor'''\n",
    "#solutions\n",
    "t = ()\n",
    "l = [\"precious\",\"excellent\",\"strong\",\"delicate\",\"improvement\"]\n",
    "for i in l:\n",
    "    t=list(t)\n",
    "    t.append(len(i))\n",
    "    m = max(t)\n",
    "print(m)\n",
    "    "
   ]
  },
  {
   "cell_type": "code",
   "execution_count": 50,
   "id": "c362a199",
   "metadata": {},
   "outputs": [
    {
     "name": "stdout",
     "output_type": "stream",
     "text": [
      "<class 'tuple'>\n",
      "5\n"
     ]
    }
   ],
   "source": [
    "x = (5, 10, 25)\n",
    "print(type(x))\n",
    "print(min(x))"
   ]
  },
  {
   "cell_type": "code",
   "execution_count": 43,
   "id": "a2136cbe",
   "metadata": {},
   "outputs": [
    {
     "name": "stdout",
     "output_type": "stream",
     "text": [
      "5\n"
     ]
    }
   ],
   "source": [
    "print(min(5, 10, 25))"
   ]
  },
  {
   "cell_type": "code",
   "execution_count": 54,
   "id": "31d38353",
   "metadata": {},
   "outputs": [
    {
     "name": "stdout",
     "output_type": "stream",
     "text": [
      "enter the string = kartik\n"
     ]
    },
    {
     "data": {
      "text/plain": [
       "'ikikikik'"
      ]
     },
     "execution_count": 54,
     "metadata": {},
     "output_type": "execute_result"
    }
   ],
   "source": [
    "'''17. Write a Python function to get a string made of 4 copies of the \n",
    "last two characters of a specified string (length must be at least 2).'''\n",
    "def python():\n",
    "    n1 = input(\"enter the string = \")\n",
    "    s = n1[-2:]*4\n",
    "    return s\n",
    "\n",
    "python()\n",
    "\n",
    "    \n",
    "    \n",
    "    \n",
    "    "
   ]
  },
  {
   "cell_type": "code",
   "execution_count": 2,
   "id": "b182f6a1",
   "metadata": {},
   "outputs": [
    {
     "name": "stdout",
     "output_type": "stream",
     "text": [
      "enter the string = kartiknegi12\n",
      "21igenkitrak"
     ]
    }
   ],
   "source": [
    "'''20. Write a Python function to reverses a string if it's length is a multiple of 4.'''\n",
    "def func():\n",
    "    s = input(\"enter the string = \")\n",
    "    x = 1\n",
    "    if len(s)%4==0:\n",
    "        while x<=len(s):\n",
    "            print(s[-x],end=\"\")\n",
    "            x=x+1\n",
    "    else:\n",
    "        print(\"string should be a multiple of 4\")\n",
    "func()"
   ]
  },
  {
   "cell_type": "code",
   "execution_count": 71,
   "id": "e7107e82",
   "metadata": {},
   "outputs": [
    {
     "name": "stdout",
     "output_type": "stream",
     "text": [
      "enter the string = lion\n",
      "noil"
     ]
    }
   ],
   "source": [
    "'''20. Write a Python function to reverses a string if it's length is a multiple of 4.'''\n",
    "#solution using a for loop\n",
    "def func1():\n",
    "    s = input(\"enter the string = \")\n",
    "    i=1\n",
    "    if len(s)%4==0:\n",
    "        for i in s[-1::-1]:\n",
    "            print(i,end=\"\")\n",
    "    else:\n",
    "        print(\"string should be a multiple of 4\")\n",
    "\n",
    "func1()\n",
    "    "
   ]
  },
  {
   "cell_type": "markdown",
   "id": "98a3fb12",
   "metadata": {},
   "source": [
    "# doubt \n",
    "## reversing strings using for loop\n",
    "\n",
    "\n",
    "\n",
    "n = input(\"enter the string = \")\n",
    "for i in len(n):\n",
    "    print(n[i])"
   ]
  },
  {
   "cell_type": "code",
   "execution_count": 70,
   "id": "275f2c44",
   "metadata": {},
   "outputs": [
    {
     "name": "stdout",
     "output_type": "stream",
     "text": [
      "k\n",
      "i\n",
      "t\n",
      "r\n",
      "a\n",
      "k\n"
     ]
    }
   ],
   "source": [
    "s = \"kartik\"\n",
    "for i in s[-1::-1]:\n",
    "    print(i)"
   ]
  },
  {
   "cell_type": "code",
   "execution_count": 26,
   "id": "bb1df587",
   "metadata": {},
   "outputs": [
    {
     "name": "stdout",
     "output_type": "stream",
     "text": [
      "enter the string = KArtik\n",
      "KARTIK\n"
     ]
    }
   ],
   "source": [
    "'''21. Write a Python function to convert a given string to all \n",
    "uppercase if it contains at least 2 uppercase characters in the first 4 characters.'''\n",
    "#SOLUTIONS\n",
    "def func2():\n",
    "    c=0\n",
    "    s = input(\"enter the string = \")\n",
    "    for i in s[0:4]:\n",
    "        if i.isupper():\n",
    "            c=c+1\n",
    "    #print(c)\n",
    "    if c>=2:\n",
    "        print(s.upper())\n",
    "        \n",
    "#print(s.upper())\n",
    "    #else:\n",
    "     #   print(s.lower())\n",
    "\n",
    "func2()        \n",
    "    \n",
    "    \n"
   ]
  },
  {
   "cell_type": "code",
   "execution_count": 18,
   "id": "988f4c76",
   "metadata": {},
   "outputs": [
    {
     "name": "stdout",
     "output_type": "stream",
     "text": [
      "s = 2,t = 1,r = 1,i = 1,n = 1,g = 1,s = 2,"
     ]
    }
   ],
   "source": [
    "s = \"strings\"\n",
    "t = 0\n",
    "for i in s:\n",
    "    s1=s.count(i)\n",
    "    print(s[t],\"=\",s1,end=\",\")\n",
    "    t=t+1\n",
    "   \n",
    "        "
   ]
  },
  {
   "cell_type": "code",
   "execution_count": 22,
   "id": "6c5701ef",
   "metadata": {},
   "outputs": [
    {
     "name": "stdout",
     "output_type": "stream",
     "text": [
      "enter the string = kartik\n",
      "k = 1,a = 1,r = 1,t = 1,"
     ]
    }
   ],
   "source": [
    "'''Q2. Write a python program to print the number of characters \n",
    "(character frequency) in a string'''\n",
    "#solutions\n",
    "s = input(\"enter the string = \")\n",
    "t = 0\n",
    "for i in s:\n",
    "    s1=s.count(i)\n",
    "    if s1==1:\n",
    "        print(s[t],\"=\",s1,end=\",\")\n",
    "        t=t+1\n"
   ]
  },
  {
   "cell_type": "code",
   "execution_count": 30,
   "id": "6953f489",
   "metadata": {},
   "outputs": [
    {
     "name": "stdout",
     "output_type": "stream",
     "text": [
      "g\n",
      "n\n",
      "i\n",
      "r\n",
      "t\n",
      "s\n"
     ]
    }
   ],
   "source": [
    "'''#Write a while loop that starts at the last character in the string \n",
    "#and works its way backwards to the first character in the string, printing \n",
    "#each letter on a separate line, except backwards.'''\n",
    "s = \"string\"\n",
    "t = -1\n",
    "while True:\n",
    "    print(s[t])\n",
    "    t=t-1\n",
    "    if t==(len(s)*-1)-1:\n",
    "        break\n",
    "    "
   ]
  },
  {
   "cell_type": "code",
   "execution_count": 3,
   "id": "cc22bbd8",
   "metadata": {},
   "outputs": [
    {
     "name": "stdout",
     "output_type": "stream",
     "text": [
      "Mona is fashionably late\n",
      "Gilbert is fashionably late\n",
      "Ford is fashionably late\n"
     ]
    }
   ],
   "source": [
    "'''party_attendees = ['Adela', 'Fleda', 'Owen', 'May', 'Mona', 'Gilbert', 'Ford','golu']\n",
    "A guest is considered 'fashionably late' if they arrived after at \n",
    "least half of the party's guests. However, they must not be the very last \n",
    "guest (that's taking it too far). In the above example, Mona and Gilbert are the only guests who were fashionably late.\n",
    "'''\n",
    "#solution\n",
    "l = [\"Adela\",\"fleda\",\"Owen\",\"May\",\"Mona\",\"Gilbert\",\"Ford\",\"Golu\"]\n",
    "list1=len(l)*0.5\n",
    "for i in range(len(l)):\n",
    "    if i>=list1 and i!=len(l)-1:\n",
    "        print(l[i],\"is fashionably late\")\n",
    "    else:\n",
    "        continue\n",
    "        "
   ]
  },
  {
   "cell_type": "code",
   "execution_count": 6,
   "id": "6a9f916d",
   "metadata": {},
   "outputs": [
    {
     "data": {
      "text/plain": [
       "'s'"
      ]
     },
     "execution_count": 6,
     "metadata": {},
     "output_type": "execute_result"
    }
   ],
   "source": [
    "s = \"strings\"\n"
   ]
  },
  {
   "cell_type": "code",
   "execution_count": null,
   "id": "89e54642",
   "metadata": {},
   "outputs": [],
   "source": []
  }
 ],
 "metadata": {
  "kernelspec": {
   "display_name": "Python 3 (ipykernel)",
   "language": "python",
   "name": "python3"
  },
  "language_info": {
   "codemirror_mode": {
    "name": "ipython",
    "version": 3
   },
   "file_extension": ".py",
   "mimetype": "text/x-python",
   "name": "python",
   "nbconvert_exporter": "python",
   "pygments_lexer": "ipython3",
   "version": "3.9.7"
  }
 },
 "nbformat": 4,
 "nbformat_minor": 5
}
