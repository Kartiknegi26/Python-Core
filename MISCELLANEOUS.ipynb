{
 "cells": [
  {
   "cell_type": "code",
   "execution_count": 1,
   "id": "5e8e04bb",
   "metadata": {},
   "outputs": [
    {
     "data": {
      "text/plain": [
       "set"
      ]
     },
     "execution_count": 1,
     "metadata": {},
     "output_type": "execute_result"
    }
   ],
   "source": [
    "s = {1,2,3}\n",
    "type(s)"
   ]
  },
  {
   "cell_type": "code",
   "execution_count": 23,
   "id": "f233e137",
   "metadata": {},
   "outputs": [
    {
     "data": {
      "text/plain": [
       "{1, 2, 3, 4}"
      ]
     },
     "execution_count": 23,
     "metadata": {},
     "output_type": "execute_result"
    }
   ],
   "source": [
    "s={1,2,3,4}\n",
    "d={1,2,3,4,6,7}\n",
    "s.intersection(d)"
   ]
  },
  {
   "cell_type": "code",
   "execution_count": 9,
   "id": "9464ba1f",
   "metadata": {},
   "outputs": [
    {
     "data": {
      "text/plain": [
       "{1, 2, 5, 6, 7}"
      ]
     },
     "execution_count": 9,
     "metadata": {},
     "output_type": "execute_result"
    }
   ],
   "source": [
    "s.union(d)"
   ]
  },
  {
   "cell_type": "code",
   "execution_count": 13,
   "id": "efcf0019",
   "metadata": {},
   "outputs": [
    {
     "data": {
      "text/plain": [
       "True"
      ]
     },
     "execution_count": 13,
     "metadata": {},
     "output_type": "execute_result"
    }
   ],
   "source": [
    "s.isdisjoint(d)"
   ]
  },
  {
   "cell_type": "code",
   "execution_count": 26,
   "id": "77bdb4b1",
   "metadata": {},
   "outputs": [
    {
     "data": {
      "text/plain": [
       "True"
      ]
     },
     "execution_count": 26,
     "metadata": {},
     "output_type": "execute_result"
    }
   ],
   "source": [
    "s.issubset(d)"
   ]
  },
  {
   "cell_type": "code",
   "execution_count": 27,
   "id": "0177d0bb",
   "metadata": {},
   "outputs": [
    {
     "name": "stdout",
     "output_type": "stream",
     "text": [
      "enter the string = kartik\n",
      "ka||ik\n"
     ]
    }
   ],
   "source": [
    "'''3. Write a Python program to get a string made of the first 2 and the last 2 chars from a given a string. \n",
    "If the string length is less than 2, return instead of the empty string. '''\n",
    "#SOLUTIONS\n",
    "s=input(\"enter the string = \")\n",
    "print(s[:2]+\"||\"+s[-2:])"
   ]
  },
  {
   "cell_type": "code",
   "execution_count": 28,
   "id": "d2dd1df7",
   "metadata": {},
   "outputs": [
    {
     "name": "stdout",
     "output_type": "stream",
     "text": [
      "enter the 1st string = kartik\n",
      "enter the 2nd string = varun\n",
      "vartik karun\n"
     ]
    }
   ],
   "source": [
    "'''5. Write a Python program to get a single string\n",
    "from two given strings, separated by a space and swap the first two characters of each string.'''\n",
    "s1 = input(\"enter the 1st string = \")\n",
    "s2 = input(\"enter the 2nd string = \")\n",
    "print(s2[:2]+s1[2:]+\" \"+s1[:2]+s2[2:])"
   ]
  },
  {
   "cell_type": "code",
   "execution_count": 32,
   "id": "c1bc6f99",
   "metadata": {},
   "outputs": [
    {
     "name": "stdout",
     "output_type": "stream",
     "text": [
      "enter the string: running\n",
      "runnly\n"
     ]
    }
   ],
   "source": [
    "'''6. Write a Python program to add 'ing' at the end of a given string (length should be at least 3). \n",
    "If the given string already ends with 'ing' then add 'ly' instead. \n",
    "If the string length of the given string is less than 3, leave it unchanged. '''\n",
    "#solutions\n",
    "s = input(\"enter the string: \")\n",
    "if len(s)>=3:\n",
    "    if \"ing\" in s:\n",
    "        s=s.replace(\"ing\",\"ly\")\n",
    "        print(s)\n",
    "    elif \"ly\" in s:\n",
    "        s=s.replace(\"ly\",\"ing\")\n",
    "        print(s)\n",
    "else:\n",
    "    print(\"length should be atleast 3\")"
   ]
  },
  {
   "cell_type": "code",
   "execution_count": 33,
   "id": "73474f1c",
   "metadata": {},
   "outputs": [
    {
     "name": "stdout",
     "output_type": "stream",
     "text": [
      "G = 2  O =  3  L = 1  E = 1 C = 1 M = 1\n"
     ]
    }
   ],
   "source": [
    "'''56. Write a Python program to find the second most repeated word in a given string'''\n",
    "#solutions\n",
    "n = \"google.com\"\n",
    "G = 0\n",
    "O = 0\n",
    "L = 0\n",
    "C=0\n",
    "E = 0\n",
    "M = 0\n",
    "for i in n:\n",
    "    if i==\"g\":\n",
    "        G = G+1\n",
    "    elif i==\"o\":\n",
    "        O = O+1\n",
    "    elif i==\"l\":\n",
    "        L = L+1\n",
    "    elif i==\"e\":\n",
    "        E = E+1\n",
    "    elif i==\"c\":\n",
    "        C = C+1\n",
    "    elif i==\"m\":\n",
    "        M = M+1\n",
    "print(\"G =\",G,\" O = \",O,\" L =\",L,\" E =\",E,\"C =\",C,\"M =\",M)\n"
   ]
  },
  {
   "cell_type": "code",
   "execution_count": 9,
   "id": "5d84ef0f",
   "metadata": {},
   "outputs": [
    {
     "name": "stdout",
     "output_type": "stream",
     "text": [
      "['the cat is black', 'the dog is white and black', 'they both are friends']\n",
      "{'black': [0, 1], 'they': [2]}\n"
     ]
    }
   ],
   "source": [
    "'''Q** A researcher has gathered thousands of news articles. But she wants to focus her attention on articles including \n",
    "a specific word. Complete the function below to help her filter her list of articles.\n",
    "\n",
    "Your function should meet the following criteria:\n",
    "\n",
    "Do not include documents where the keyword string shows up only as a part of a larger word. \n",
    "For example, if she were looking for the keyword “closed”, you would not include the string “enclosed.”\n",
    "She does not want you to distinguish upper case from lower case letters. So the phrase “Closed the case.” \n",
    "would be included when the keyword is “closed”\n",
    "Do not let periods or commas affect what is matched. “It is closed.” would be included when the keyword is “closed”.\n",
    "But you can assume there are no other types of punctuation.\n",
    "'''\n",
    "'''l  = [\"tHe CAT ,is ,BLAc,k\",\"the dog is WHITE, and ,bl,ack\",\"they BOTH are friends\"]'''\n",
    "''''''\n",
    "#SOLUTIONS\n",
    "l  = [\"tHe CAT ,is ,BLAc,k\",\"the dog is WHITE, and ,bl,ack\",\"they BOTH are friends\"]\n",
    "l1=[]\n",
    "l4=[\"black\",\"they\"]\n",
    "for i in l:\n",
    "    i=i.lower()\n",
    "    i=i.replace(\",\",\"\")\n",
    "    l1.append(i)\n",
    "print(l1)\n",
    "l2=[]\n",
    "l3=[]\n",
    "for i in l1:\n",
    "    if i.count(\"black\")>0:\n",
    "        l2.append(l1.index(i))\n",
    "    elif i.count(\"they\")>0:\n",
    "        l3.append(l1.index(i))\n",
    "d={}\n",
    "L=[l2,l3]\n",
    "for i in l4:\n",
    "    for j in L:\n",
    "        if L.index(j)==l4.index(i):\n",
    "            d[i]=j\n",
    "print(d)\n",
    "            \n",
    "        \n",
    "        \n",
    "        \n",
    "    \n",
    "    \n"
   ]
  },
  {
   "cell_type": "code",
   "execution_count": 14,
   "id": "416beb45",
   "metadata": {},
   "outputs": [
    {
     "name": "stdout",
     "output_type": "stream",
     "text": [
      "first 1\n",
      "second 2\n",
      "third 3\n",
      "fourth 4\n"
     ]
    }
   ],
   "source": [
    "'''Q. 1. Write a Python script to sort (ascending and descending) a dictionary by value. '''\n",
    "#solution\n",
    "d = {\"first\":1,\"second\":2,\"third\":3,\"fourth\":4}\n",
    "l={}\n",
    "for i,x in d.items():\n",
    "    print(i,x)\n",
    "\n",
    "    \n",
    "    \n",
    "    \n",
    "    "
   ]
  },
  {
   "cell_type": "code",
   "execution_count": 15,
   "id": "3793b179",
   "metadata": {},
   "outputs": [
    {
     "data": {
      "text/plain": [
       "{0: 10, 1: 20, 2: 30}"
      ]
     },
     "execution_count": 15,
     "metadata": {},
     "output_type": "execute_result"
    }
   ],
   "source": [
    "'''Q. 2. Write a Python script to add a key to a dictionary. Go to the editor\n",
    "\n",
    "Sample Dictionary : {0: 10, 1: 20}\n",
    "Expected Result : {0: 10, 1: 20, 2: 30}'''\n",
    "#SOLUTIONS\n",
    "d1 = {0: 10, 1: 20}\n",
    "d1[2]=30\n",
    "d1"
   ]
  },
  {
   "cell_type": "code",
   "execution_count": 22,
   "id": "cfb8b0b5",
   "metadata": {},
   "outputs": [
    {
     "data": {
      "text/plain": [
       "{1: 10, 2: 20, 3: 30, 4: 40, 5: 50, 6: 60}"
      ]
     },
     "execution_count": 22,
     "metadata": {},
     "output_type": "execute_result"
    }
   ],
   "source": [
    "'''Q. Write a Python script to concatenate following dictionaries to create a new one. Go to the editor\n",
    "\n",
    "Sample Dictionary :\n",
    "dic1={1:10, 2:20}\n",
    "dic2={3:30, 4:40}\n",
    "dic3={5:50,6:60}'''\n",
    "#solutions\n",
    "dic1={1:10, 2:20}\n",
    "dic2={3:30, 4:40}\n",
    "dic3={5:50,6:60} \n",
    "dic\n",
    "for i,x in dic1.items():\n",
    "    dic[i]=x\n",
    "for i,x in dic2.items():\n",
    "    dic[i]=x\n",
    "for i,x in dic3.items():\n",
    "    dic[i]=x\n",
    "dic\n",
    "    "
   ]
  },
  {
   "cell_type": "code",
   "execution_count": 27,
   "id": "92019628",
   "metadata": {},
   "outputs": [
    {
     "name": "stdout",
     "output_type": "stream",
     "text": [
      "{1: 10, 2: 20, 3: 30, 4: 40, 5: 50, 6: 60}\n"
     ]
    }
   ],
   "source": [
    "'''Q. Write a Python script to concatenate following dictionaries to create a new one. Go to the editor\n",
    "\n",
    "Sample Dictionary :\n",
    "dic1={1:10, 2:20}\n",
    "dic2={3:30, 4:40}\n",
    "dic3={5:50,6:60}'''\n",
    "dic1={1:10, 2:20}\n",
    "dic2={3:30, 4:40}\n",
    "dic3={5:50,6:60}\n",
    "dic4 = {}\n",
    "for d in (dic1, dic2, dic3): dic4.update(d)\n",
    "print(dic4)"
   ]
  },
  {
   "cell_type": "code",
   "execution_count": 28,
   "id": "9104c759",
   "metadata": {},
   "outputs": [
    {
     "name": "stdout",
     "output_type": "stream",
     "text": [
      "enter the string : kartik\n",
      "kitrak"
     ]
    }
   ],
   "source": [
    "while True:\n",
    "    s = input(\"enter the string : \")\n",
    "    x=1\n",
    "    while x<=len(s):\n",
    "        print(s[x*-1],end=\"\")\n",
    "        x=x+1\n",
    "    break\n",
    "        \n",
    "\n"
   ]
  },
  {
   "cell_type": "code",
   "execution_count": 31,
   "id": "fc5219ef",
   "metadata": {},
   "outputs": [
    {
     "name": "stdout",
     "output_type": "stream",
     "text": [
      "enter the string: my name is kartik negi\n",
      "11\n"
     ]
    }
   ],
   "source": [
    "while True:\n",
    "    s = input(\"enter the string: \")\n",
    "    if \"kartik\" in s:\n",
    "        s=s.index(\"kartik\")\n",
    "        print(s)\n",
    "        break\n",
    "    else:\n",
    "        continue"
   ]
  },
  {
   "cell_type": "code",
   "execution_count": 30,
   "id": "a8bff343",
   "metadata": {},
   "outputs": [
    {
     "data": {
      "text/plain": [
       "0"
      ]
     },
     "execution_count": 30,
     "metadata": {},
     "output_type": "execute_result"
    }
   ],
   "source": [
    "s = \"kartik is a college student\"\n",
    "s=s.index(\"kartik\")\n",
    "s\n"
   ]
  },
  {
   "cell_type": "code",
   "execution_count": 34,
   "id": "0728bb1c",
   "metadata": {},
   "outputs": [
    {
     "name": "stdout",
     "output_type": "stream",
     "text": [
      "enter the string: kartik goes to college\n",
      "0\n"
     ]
    }
   ],
   "source": [
    "s = input(\"enter the string: \").split()\n"
   ]
  },
  {
   "cell_type": "code",
   "execution_count": 47,
   "id": "38ce9e74",
   "metadata": {},
   "outputs": [
    {
     "name": "stdout",
     "output_type": "stream",
     "text": [
      "enter the string: kartik\n",
      "enter the alphabet: k a r t i k\n",
      "{'k': 2, 'a': 1, 'r': 1, 't': 1, 'i': 1}\n"
     ]
    }
   ],
   "source": [
    "s = input(\"enter the string: \")\n",
    "s1=input(\"enter the alphabet: \").split()\n",
    "dict = {}\n",
    "for i in s1:\n",
    "    i=str(i)\n",
    "    s1=s.count(i)\n",
    "    dict[i]=s1\n",
    "print(dict)\n",
    "    "
   ]
  },
  {
   "cell_type": "code",
   "execution_count": null,
   "id": "a37b926f",
   "metadata": {},
   "outputs": [],
   "source": []
  }
 ],
 "metadata": {
  "kernelspec": {
   "display_name": "Python 3 (ipykernel)",
   "language": "python",
   "name": "python3"
  },
  "language_info": {
   "codemirror_mode": {
    "name": "ipython",
    "version": 3
   },
   "file_extension": ".py",
   "mimetype": "text/x-python",
   "name": "python",
   "nbconvert_exporter": "python",
   "pygments_lexer": "ipython3",
   "version": "3.9.7"
  }
 },
 "nbformat": 4,
 "nbformat_minor": 5
}
