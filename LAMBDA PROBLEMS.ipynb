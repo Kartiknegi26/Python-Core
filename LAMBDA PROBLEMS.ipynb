{
 "cells": [
  {
   "cell_type": "code",
   "execution_count": 1,
   "id": "bd0d2bda",
   "metadata": {},
   "outputs": [
    {
     "data": {
      "text/plain": [
       "[('Social sciences', 82), ('English', 88), ('Science', 90), ('Maths', 97)]"
      ]
     },
     "execution_count": 1,
     "metadata": {},
     "output_type": "execute_result"
    }
   ],
   "source": [
    "'''Q3. Write a Python program to sort a list of tuples using Lambda.'''\n",
    "l=[('English', 88), ('Science', 90), ('Maths', 97), ('Social sciences', 82)]\n",
    "l.sort(key=lambda a:a[-1])\n",
    "l"
   ]
  },
  {
   "cell_type": "code",
   "execution_count": 3,
   "id": "a46f622b",
   "metadata": {},
   "outputs": [
    {
     "data": {
      "text/plain": [
       "[{'make': 'Nokia', 'model': 216, 'color': 'Black'},\n",
       " {'make': 'Samsung', 'model': 7, 'color': 'Blue'},\n",
       " {'make': 'Mi Max', 'model': '2', 'color': 'Gold'}]"
      ]
     },
     "execution_count": 3,
     "metadata": {},
     "output_type": "execute_result"
    }
   ],
   "source": [
    "'''4. Write a Python program to sort a list of dictionaries using Lambda. Go to the editor'''\n",
    "#on the basis of color\n",
    "'''Original list of dictionaries :'''\n",
    "L=[{'make': 'Nokia', 'model': 216, 'color': 'Black'}, {'make': 'Mi Max', 'model': '2', 'color': 'Gold'}, \n",
    " {'make': 'Samsung', 'model': 7, 'color': 'Blue'}]\n",
    "'''Sorting the List of dictionaries :\n",
    "[{'make': 'Nokia', 'model': 216, 'color': 'Black'}, {'make': 'Samsung', 'model': 7, 'color': 'Blue'}, \n",
    " {'make': 'Mi Max', 'model': '2', 'color': 'Gold'}]'''\n",
    "L.sort(key=lambda a:a[\"color\"])\n",
    "L"
   ]
  },
  {
   "cell_type": "code",
   "execution_count": 31,
   "id": "64fae0af",
   "metadata": {},
   "outputs": [
    {
     "name": "stdout",
     "output_type": "stream",
     "text": [
      "[2, 4, 6, 8, 10]\n",
      "[1, 3, 5, 7, 9]\n"
     ]
    }
   ],
   "source": [
    "'''5. Write a Python program to filter a list of integers using Lambda(even nos. list & odd nos.)'''\n",
    "L=[1, 2, 3, 4, 5, 6, 7, 8, 9, 10]\n",
    "a=list(filter(lambda x:x%2==0,L))\n",
    "b=list(filter(lambda x:x%2!=0,L))\n",
    "print(a)\n",
    "print(b)\n",
    "\n"
   ]
  },
  {
   "cell_type": "code",
   "execution_count": 32,
   "id": "47724711",
   "metadata": {},
   "outputs": [
    {
     "name": "stdout",
     "output_type": "stream",
     "text": [
      "[1, 4, 9, 16, 25, 36, 49, 64, 81, 100]\n",
      "[1, 8, 27, 64, 125, 216, 343, 512, 729, 1000]\n"
     ]
    }
   ],
   "source": [
    "'''Q. 6. Write a Python program to square and cube every number in a given list of integers using Lambda.'''\n",
    "l=[1, 2, 3, 4, 5, 6, 7, 8, 9, 10]\n",
    "a = list(map(lambda x:x**2,l))\n",
    "b = list(map(lambda y:y**3,l))\n",
    "print(a)\n",
    "print(b)"
   ]
  },
  {
   "cell_type": "code",
   "execution_count": 33,
   "id": "2a6f2c24",
   "metadata": {},
   "outputs": [
    {
     "data": {
      "text/plain": [
       "[True, False, False, True, False]"
      ]
     },
     "execution_count": 33,
     "metadata": {},
     "output_type": "execute_result"
    }
   ],
   "source": [
    "'''Q. 7. Write a Python program to find if a given string starts with a given character using Lambda'''\n",
    "s = [\"kartik\",\"abhishek\",\"dhruv\",\"kritika\",\"varun\"]\n",
    "list(map(lambda x:x.startswith(\"k\"),s))"
   ]
  },
  {
   "cell_type": "code",
   "execution_count": null,
   "id": "cefbeab8",
   "metadata": {},
   "outputs": [],
   "source": [
    "'''q.10. Write a Python program to create Fibonacci series upto n using Lambda. '''\n",
    "l = [1,2,3,4,5,6,7]\n",
    "list(map(lambda x:))"
   ]
  },
  {
   "cell_type": "code",
   "execution_count": 36,
   "id": "cc0de6d1",
   "metadata": {},
   "outputs": [
    {
     "data": {
      "text/plain": [
       "[1, 2, 8, 9]"
      ]
     },
     "execution_count": 36,
     "metadata": {},
     "output_type": "execute_result"
    }
   ],
   "source": [
    "'''Q.11. Write a Python program to find intersection of two given arrays using Lambda.'''\n",
    "#solutions\n",
    "l1=[1, 2, 3, 5, 7, 8, 9, 10]\n",
    "l2=[1, 2, 4, 8, 9]\n",
    "list(filter(lambda x:x in l1,l2))\n"
   ]
  },
  {
   "cell_type": "code",
   "execution_count": 40,
   "id": "4f3f4525",
   "metadata": {},
   "outputs": [
    {
     "data": {
      "text/plain": [
       "[2, 5, 7, 8, 9, -10, -3, -1]"
      ]
     },
     "execution_count": 40,
     "metadata": {},
     "output_type": "execute_result"
    }
   ],
   "source": [
    "'''Q. 12. Write a Python program to rearrange positive and negative numbers in a given array using Lambda.'''\n",
    "'''expected result:[2, 5, 7, 8, 9, -10, -3, -1]'''\n",
    "l1=[-1, 2, -3, 5, 7, 8, 9, -10]\n",
    "l1.sort(key = lambda i: 0 if i == 0 else -1 / i)\n",
    "l1"
   ]
  },
  {
   "cell_type": "code",
   "execution_count": 41,
   "id": "352497ba",
   "metadata": {},
   "outputs": [
    {
     "data": {
      "text/plain": [
       "[2, 5, 7, 8, 9, -10, -3, -1]"
      ]
     },
     "execution_count": 41,
     "metadata": {},
     "output_type": "execute_result"
    }
   ],
   "source": [
    "l1=[-1, 2, -3, 5, 7, 8, 9, -10]\n",
    "l1.sort(key=lambda x:-1/x)\n",
    "l1"
   ]
  },
  {
   "cell_type": "code",
   "execution_count": 53,
   "id": "9f3894d9",
   "metadata": {},
   "outputs": [
    {
     "name": "stdout",
     "output_type": "stream",
     "text": [
      "even nos. are : 3\n",
      "odd nos. are : 4\n"
     ]
    }
   ],
   "source": [
    "'''Q.13. Write a Python program to count the even, odd numbers in a given array of integers using Lambda'''\n",
    "l1 = [1,2,3,4,5,6,7]\n",
    "s=len(list(filter(lambda x:x%2==0,l1)))\n",
    "s2=len(list(filter(lambda x:x%2!=0,l1)))\n",
    "print(\"even nos. are :\",s)\n",
    "print(\"odd nos. are :\",s2)\n"
   ]
  },
  {
   "cell_type": "code",
   "execution_count": 54,
   "id": "17b2265c",
   "metadata": {},
   "outputs": [
    {
     "data": {
      "text/plain": [
       "4"
      ]
     },
     "execution_count": 54,
     "metadata": {},
     "output_type": "execute_result"
    }
   ],
   "source": [
    "'''Q. . Write a Python program to find the values of length six in a given list using Lambda.'''\n",
    "l = [\"kartik\",\"kritika\",\"bhawna\",\"varun\",\"monday\",\"sunday\"]\n",
    "s = len(list(filter(lambda x:len(x)==6,l)))\n",
    "s"
   ]
  },
  {
   "cell_type": "code",
   "execution_count": 76,
   "id": "907aadc2",
   "metadata": {},
   "outputs": [
    {
     "name": "stdout",
     "output_type": "stream",
     "text": [
      "enter the no. of students:3\n",
      "names:k\n",
      "grades : 3\n",
      "names:v\n",
      "grades : 2\n",
      "names:n\n",
      "grades : 1\n",
      "[['k', 3], ['v', 2], ['n', 1]]\n",
      "[['n', 1], ['v', 2], ['k', 3]]\n",
      "the second highrest scorer:  ['v', 2]\n"
     ]
    }
   ],
   "source": [
    "'''Q. 16. Write a Python program to find the second lowest grade of any student(s) \n",
    "from the given names and grades of each student using lists and lambda. \n",
    "Input number of students, names and grades of each student.'''\n",
    "#soltuions\n",
    "L = []\n",
    "n = int(input(\"enter the no. of students:\"))\n",
    "for i in range(n):\n",
    "    names=input(\"names:\")\n",
    "    grades = int(input(\"grades : \"))\n",
    "    L.append([names,grades])\n",
    "print(L)\n",
    "L.sort(key=lambda x:x[1])\n",
    "print(L)\n",
    "for i in L:\n",
    "    if i[1]!=L[1][1]:\n",
    "        req_tuple=L[1]\n",
    "        break\n",
    "print(\"the second highrest scorer: \",req_tuple)\n",
    "    "
   ]
  },
  {
   "cell_type": "code",
   "execution_count": 79,
   "id": "c8a7cfb5",
   "metadata": {},
   "outputs": [
    {
     "name": "stdout",
     "output_type": "stream",
     "text": [
      "enter the n0. of students: 4\n",
      "enter the name: kartik\n",
      "enter the marks obtained: 45\n",
      "enter the name: kritika\n",
      "enter the marks obtained: 50\n",
      "enter the name: bhawna\n",
      "enter the marks obtained: 60\n",
      "enter the name: varun\n",
      "enter the marks obtained: 90\n",
      "[['kartik', 45], ['kritika', 50], ['bhawna', 60], ['varun', 90]]\n"
     ]
    },
    {
     "data": {
      "text/plain": [
       "[['kartik', 45], ['kritika', 50], ['bhawna', 60], ['varun', 90]]"
      ]
     },
     "execution_count": 79,
     "metadata": {},
     "output_type": "execute_result"
    }
   ],
   "source": [
    "'''print the names and students marks in a list of tupples'''\n",
    "L = []\n",
    "n = int(input(\"enter the n0. of students: \"))\n",
    "for i in range(n):\n",
    "    names = input(\"enter the name: \")\n",
    "    marks = int(input(\"enter the marks obtained: \"))\n",
    "    L.append([names,marks])\n",
    "print(L)\n",
    "L.sort(key=lambda x:x[1])\n",
    "L\n",
    "    \n"
   ]
  },
  {
   "cell_type": "code",
   "execution_count": 102,
   "id": "db55e80c",
   "metadata": {},
   "outputs": [
    {
     "name": "stdout",
     "output_type": "stream",
     "text": [
      "0\n",
      "1\n",
      "3\n",
      "6\n",
      "10\n"
     ]
    }
   ],
   "source": [
    "'''Q10. Write a Python program to create Fibonacci series upto n using Lambda. '''\n",
    "#solution\n",
    "y=0\n",
    "for i in range(1,6):\n",
    "    print(y)\n",
    "    y=i+y\n",
    "\n",
    "\n",
    "\n"
   ]
  },
  {
   "cell_type": "code",
   "execution_count": null,
   "id": "46751293",
   "metadata": {},
   "outputs": [],
   "source": []
  }
 ],
 "metadata": {
  "kernelspec": {
   "display_name": "Python 3 (ipykernel)",
   "language": "python",
   "name": "python3"
  },
  "language_info": {
   "codemirror_mode": {
    "name": "ipython",
    "version": 3
   },
   "file_extension": ".py",
   "mimetype": "text/x-python",
   "name": "python",
   "nbconvert_exporter": "python",
   "pygments_lexer": "ipython3",
   "version": "3.9.7"
  }
 },
 "nbformat": 4,
 "nbformat_minor": 5
}
