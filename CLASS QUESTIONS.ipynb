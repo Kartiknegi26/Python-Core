{
 "cells": [
  {
   "cell_type": "code",
   "execution_count": 2,
   "id": "71af57ce",
   "metadata": {},
   "outputs": [
    {
     "name": "stdout",
     "output_type": "stream",
     "text": [
      "enter the id: 22333456\n",
      "enter the name: kartik\n",
      "enter the class: 10th\n",
      "Studentid is 22333456\n",
      "Student's name is kartik\n",
      "Student's class is 10th\n"
     ]
    }
   ],
   "source": [
    "'''6. Write a Python function student_data () which will print the id of a student (student_id). \n",
    "If the user passes an argument student_name or student_class the \n",
    "function will print the student name and class.'''\n",
    "#SOLUTIONS\n",
    "class Student:\n",
    "    def __init__(self):\n",
    "        self.id = int(input(\"enter the id: \"))\n",
    "        self.student_name=input(\"enter the name: \")\n",
    "        self.student_class=input(\"enter the class: \")\n",
    "        \n",
    "    def info(self):\n",
    "        print(f\"Studentid is {self.id}\")\n",
    "        print(f\"Student's name is {self.student_name}\")\n",
    "        print(f\"Student's class is {self.student_class}\")\n",
    "c = Student()\n",
    "c.info()\n",
    "        \n",
    "        "
   ]
  },
  {
   "cell_type": "code",
   "execution_count": 19,
   "id": "dbf095d8",
   "metadata": {},
   "outputs": [
    {
     "name": "stdout",
     "output_type": "stream",
     "text": [
      "kartik has topped.\n",
      "98 is the highest in physics\n"
     ]
    }
   ],
   "source": [
    "'''8. Write a Python program to create two empty classes, Student and Marks. \n",
    "Now create some instances and check whether they are instances of the said classes or not.\n",
    "Also, check whether the said classes are subclasses of the built-in object class or not.'''\n",
    "#solution\n",
    "class Students:\n",
    "    def __init__(self,topper):\n",
    "        self.topper = topper\n",
    "    def Topper(self):\n",
    "        print(f\"{self.topper} has topped.\")\n",
    "class Marks:\n",
    "    def __init__(self,max_marks,subject):\n",
    "        self.max_marks = max_marks\n",
    "        self.subject = subject\n",
    "    def MM(self):\n",
    "        print(f\"{self.max_marks} is the highest in {self.subject}\")\n",
    "        \n",
    "        \n",
    "c = Students(\"kartik\")\n",
    "c.Topper()\n",
    "d = Marks(98,\"physics\")\n",
    "d.MM()"
   ]
  },
  {
   "cell_type": "code",
   "execution_count": 12,
   "id": "15e78c8b",
   "metadata": {},
   "outputs": [
    {
     "name": "stdout",
     "output_type": "stream",
     "text": [
      "enter the shape: rectangle\n",
      "enter the length: 4\n",
      "enter the breadth: 6\n",
      "24\n"
     ]
    }
   ],
   "source": [
    "'''WAC shape which takes the input from the user regarding the shape and then make a method called area\n",
    "and take the sides input input from the user and then compute the area of the shape'''\n",
    "#solution\n",
    "class Shape:\n",
    "    def __init__(self):\n",
    "        self.shape=input(\"enter the shape: \")\n",
    "        \n",
    "    def Area(self):\n",
    "        if self.shape==\"square\":\n",
    "            s = int(input(\"enter the side: \"))\n",
    "            a = s**2\n",
    "            print(a)\n",
    "        elif self.shape==\"rectangle\":\n",
    "            l = int(input(\"enter the length: \"))\n",
    "            b = int(input(\"enter the breadth: \"))\n",
    "            area = l*b\n",
    "            print(area)\n",
    "\n",
    "c = Shape()\n",
    "c.Area()\n"
   ]
  },
  {
   "cell_type": "code",
   "execution_count": 9,
   "id": "44408c72",
   "metadata": {},
   "outputs": [
    {
     "name": "stdout",
     "output_type": "stream",
     "text": [
      "enter the title: The Trip\n",
      "enter the fname: Ruskin\n",
      "enter the lname: Bond\n",
      "The Trip\n",
      "RuskinBond\n"
     ]
    }
   ],
   "source": [
    "'''Define a book class with the following attributes: Title, Author (full name),Price. \n",
    "Define a constructor used to initialize \n",
    "the attributes of the method with values entered by the user.\n",
    "set the view() method to display information for the current book'''\n",
    "class Book:\n",
    "    def __init__(self):\n",
    "        self.Title = input(\"enter the title: \")\n",
    "        self.fname = input(\"enter the fname: \")\n",
    "        self.lname = input(\"enter the lname: \")\n",
    "    def Info(self):\n",
    "        print(f\"{self.Title}\")\n",
    "        print(f\"{self.fname}{self.lname}\")\n",
    "    \n",
    "b = Book()\n",
    "b.Info()"
   ]
  },
  {
   "cell_type": "code",
   "execution_count": 32,
   "id": "89fb491a",
   "metadata": {},
   "outputs": [
    {
     "name": "stdout",
     "output_type": "stream",
     "text": [
      "12345\n",
      "Kartik Negi\n"
     ]
    }
   ],
   "source": [
    "'''11. Write a Python class named Student with two attributes student_id, student_name. \n",
    "Add a new attribute student_class. \n",
    "Create a function to display the entire attribute and their values in Student class.'''\n",
    "#solutions\n",
    "class Student:\n",
    "    def __init__(self,student_id,student_name):\n",
    "        self.student_id = student_id\n",
    "        self.student_name = student_name\n",
    "    def student_class(self):\n",
    "        print(self.student_id)\n",
    "        print(self.student_name)\n",
    "        \n",
    "c = Student(12345,\"Kartik Negi\")\n",
    "c.student_class()"
   ]
  },
  {
   "cell_type": "code",
   "execution_count": null,
   "id": "7697781c",
   "metadata": {},
   "outputs": [],
   "source": []
  }
 ],
 "metadata": {
  "kernelspec": {
   "display_name": "Python 3 (ipykernel)",
   "language": "python",
   "name": "python3"
  },
  "language_info": {
   "codemirror_mode": {
    "name": "ipython",
    "version": 3
   },
   "file_extension": ".py",
   "mimetype": "text/x-python",
   "name": "python",
   "nbconvert_exporter": "python",
   "pygments_lexer": "ipython3",
   "version": "3.9.7"
  }
 },
 "nbformat": 4,
 "nbformat_minor": 5
}
